{
 "cells": [
  {
   "cell_type": "markdown",
   "metadata": {},
   "source": [
    "# Maps\n",
    "\n",
    "https://en.cppreference.com/w/cpp/container/map\n",
    "\n",
    "## Topics\n",
    "- Map definition\n",
    "- Declare map\n",
    "- Access elements\n",
    "- Map Modifiers\n",
    "- Aggregate operations\n",
    "- Iterators\n",
    "- Lookup operations\n",
    "- Applications\n"
   ]
  },
  {
   "cell_type": "markdown",
   "metadata": {},
   "source": [
    "## Map\n",
    "- the containers such as **array** and **vector** are linear and the keys are fixed integer indices\n",
    "- at times problems may require a dictionary like data-structure where you need to select your own key that is associated with some value\n",
    "- **map** is such a data structure where you store key-value pairs of your choosen types\n",
    "- **map** is also called associative container that contains key-value pairs with unique keys\n",
    "    - map is automatically sorted based on keys\n",
    "    - all keys are of the same type and all values are of the same type\n",
    "    - key and value can be of the same type or can be different types\n",
    "- the following figure depicts a map data structure that maps English numbers (string) to Spanish numbers (string)\n",
    "\n",
    "![](resources/Map.png)\n",
    "\n",
    "- keys are mapped to values (one-way)\n",
    "    - values are not mapped to the keys\n",
    "- under the hood **map** is implemented as [red-black trees](https://en.wikipedia.org/wiki/Red%E2%80%93black_tree)\n",
    "- the complexity (efficiency) of common operations such as search, removal, and insertion operations is $O(log_2 n)$\n",
    "    - simply put, if there are about 4 billion key-value pairs in a map, these common tasks can be completed in about 32 iterations (operations)\n",
    "    - oder of operations is something discussed in more details in Data structures and Algorithm courses"
   ]
  },
  {
   "cell_type": "markdown",
   "metadata": {},
   "source": [
    "## Map objects\n",
    "- must include header file **&lt;map&gt;** and use namespace std\n",
    "- a template class designed to store key of any data type that can be compared\n",
    "    - value can be of any type\n",
    "- map objects must be declared before they can be used\n",
    "- syntax\n",
    "\n",
    "```cpp\n",
    "map<type, type> object;\n",
    "```"
   ]
  },
  {
   "cell_type": "code",
   "execution_count": 1,
   "metadata": {
    "code_folding": []
   },
   "outputs": [],
   "source": [
    "// include header files\n",
    "#include <iostream>\n",
    "#include <string>\n",
    "#include <map>\n",
    "\n",
    "using namespace std;"
   ]
  },
  {
   "cell_type": "code",
   "execution_count": 2,
   "metadata": {
    "code_folding": []
   },
   "outputs": [],
   "source": [
    "// declare map containers without initialization\n",
    "map<string, string> eng2Span;\n",
    "map<char, int> charToNum;\n",
    "map<int, char> numToChar;"
   ]
  },
  {
   "cell_type": "code",
   "execution_count": 3,
   "metadata": {
    "code_folding": []
   },
   "outputs": [],
   "source": [
    "// declare and initialize\n",
    "map<string, int> words = {\n",
    "        {\"i\", 10},\n",
    "        {\"love\", 20},\n",
    "        {\"C++\", 30},\n",
    "        {\"!\", 40},\n",
    "    };\n",
    "map<string, float> prices = {{\"apple\", 1.99}, {\"orange\", 1.99}, {\"banana\", 2.99}, {\"lobster\", 20.85}};\n",
    "map<string, float> dupPrices = prices;"
   ]
  },
  {
   "cell_type": "code",
   "execution_count": 4,
   "metadata": {},
   "outputs": [
    {
     "data": {
      "text/plain": [
       "{ \"!\" => 40, \"C++\" => 30, \"i\" => 10, \"love\" => 20 }"
      ]
     },
     "execution_count": 4,
     "metadata": {},
     "output_type": "execute_result"
    }
   ],
   "source": [
    "// contents of words\n",
    "words"
   ]
  },
  {
   "cell_type": "code",
   "execution_count": 5,
   "metadata": {},
   "outputs": [
    {
     "data": {
      "text/plain": [
       "{ \"apple\" => 1.99000f, \"banana\" => 2.99000f, \"lobster\" => 20.8500f, \"orange\" => 1.99000f }"
      ]
     },
     "execution_count": 5,
     "metadata": {},
     "output_type": "execute_result"
    }
   ],
   "source": [
    "// prices contents: \n",
    "prices"
   ]
  },
  {
   "cell_type": "markdown",
   "metadata": {},
   "source": [
    "### values can be user-defined type"
   ]
  },
  {
   "cell_type": "code",
   "execution_count": 6,
   "metadata": {},
   "outputs": [],
   "source": [
    "// define Rectangle type\n",
    "// Note - the word Type is redundant! Rectangle by itself would mean a type\n",
    "struct RectangleType {\n",
    "    float length, width;\n",
    "};"
   ]
  },
  {
   "cell_type": "code",
   "execution_count": 7,
   "metadata": {},
   "outputs": [],
   "source": [
    "// create a map that maps ints to RectangleType\n",
    "map<int, RectangleType> myRects;"
   ]
  },
  {
   "cell_type": "code",
   "execution_count": 8,
   "metadata": {},
   "outputs": [],
   "source": [
    "// declare and initialize\n",
    "map<char, RectangleType> rectMap = {{'A', {20, 10}}, {'x', {3.5, 2.1}}};"
   ]
  },
  {
   "cell_type": "markdown",
   "metadata": {},
   "source": [
    "## Accessing existing elements\n",
    "- elements are accessed using keys and NOT the values\n",
    "    - must know the key to get the corresponding values\n",
    "    - can't get key from its value\n",
    "- **at(key)** : access specified element with bounds checking\n",
    "- **operator[key]** : access or insert specified element based on key\n",
    "- similar to vector, but use actual key not index"
   ]
  },
  {
   "cell_type": "code",
   "execution_count": 9,
   "metadata": {},
   "outputs": [
    {
     "name": "stdout",
     "output_type": "stream",
     "text": [
      "love = 20\n",
      "apple = 1.99\n",
      "ball = 0\n"
     ]
    },
    {
     "data": {
      "text/plain": [
       "@0x10645a558"
      ]
     },
     "execution_count": 9,
     "metadata": {},
     "output_type": "execute_result"
    }
   ],
   "source": [
    "// accessing elements using [] bracket operator\n",
    "cout << \"love = \" << words[\"love\"] << endl;\n",
    "cout << \"apple = \" << prices[\"apple\"] << endl;\n",
    "cout << \"ball = \" << prices[\"ball\"] << endl; // \"ball doesn't exist; returns 0\""
   ]
  },
  {
   "cell_type": "code",
   "execution_count": 10,
   "metadata": {},
   "outputs": [
    {
     "name": "stdout",
     "output_type": "stream",
     "text": [
      "cost of kite = 0"
     ]
    }
   ],
   "source": [
    "// key must exist; value is unpredictable if key doesn't exist\n",
    "cout << \"cost of kite = \" << prices[\"kite\"];"
   ]
  },
  {
   "cell_type": "code",
   "execution_count": 11,
   "metadata": {},
   "outputs": [
    {
     "name": "stdout",
     "output_type": "stream",
     "text": [
      "love = 20\n",
      "apple = 1.99\n",
      "ball = 0\n"
     ]
    },
    {
     "data": {
      "text/plain": [
       "@0x10645a558"
      ]
     },
     "execution_count": 11,
     "metadata": {},
     "output_type": "execute_result"
    }
   ],
   "source": [
    "// accessing elements using at() member function\n",
    "cout << \"love = \" << words.at(\"love\") << endl;\n",
    "cout << \"apple = \" << prices.at(\"apple\") << endl;\n",
    "cout << \"ball = \" << prices.at(\"ball\") << endl; // \"ball doesn't exist; returns 0\""
   ]
  },
  {
   "cell_type": "code",
   "execution_count": 12,
   "metadata": {},
   "outputs": [
    {
     "name": "stdout",
     "output_type": "stream",
     "text": [
      "cost of kite = 0"
     ]
    }
   ],
   "source": [
    "// key must exist; value is unpredictable if key doesn't exist\n",
    "cout << \"cost of kite = \" << prices.at(\"kite\");"
   ]
  },
  {
   "cell_type": "code",
   "execution_count": 13,
   "metadata": {},
   "outputs": [
    {
     "data": {
      "text/plain": [
       "{}"
      ]
     },
     "execution_count": 13,
     "metadata": {},
     "output_type": "execute_result"
    }
   ],
   "source": [
    "// declared above, but should be empty map\n",
    "eng2Span"
   ]
  },
  {
   "cell_type": "code",
   "execution_count": 14,
   "metadata": {},
   "outputs": [
    {
     "data": {
      "text/plain": [
       "3.50000f"
      ]
     },
     "execution_count": 14,
     "metadata": {},
     "output_type": "execute_result"
    }
   ],
   "source": [
    "// accessing user-defined type as value\n",
    "rectMap['x'].length"
   ]
  },
  {
   "cell_type": "code",
   "execution_count": 15,
   "metadata": {},
   "outputs": [
    {
     "name": "stdout",
     "output_type": "stream",
     "text": [
      "area of rectangle x = 7.35"
     ]
    }
   ],
   "source": [
    "cout << \"area of rectangle x = \" << rectMap['x'].length * rectMap['x'].width;"
   ]
  },
  {
   "cell_type": "markdown",
   "metadata": {},
   "source": [
    "### inserting key->value pairs\n",
    "- new key value pairs can be inserted to a map container\n",
    "- if the key exists, existing value will be replaced with the new value\n",
    "- if the key doesn't exist, new key-value pair will be inserted in the right location making sure keys are always sorted"
   ]
  },
  {
   "cell_type": "code",
   "execution_count": 16,
   "metadata": {},
   "outputs": [],
   "source": [
    "// add new elements\n",
    "eng2Span[\"one\"] = \"uno\";\n",
    "eng2Span[\"two\"] = \"dos\";\n",
    "eng2Span[\"three\"] = \"tres\";\n",
    "eng2Span[\"four\"] = \"cuatro\";\n",
    "eng2Span[\"five\"] = \"sinco\";"
   ]
  },
  {
   "cell_type": "code",
   "execution_count": 17,
   "metadata": {},
   "outputs": [
    {
     "data": {
      "text/plain": [
       "{ \"five\" => \"sinco\", \"four\" => \"cuatro\", \"one\" => \"uno\", \"three\" => \"tres\", \"two\" => \"dos\" }"
      ]
     },
     "execution_count": 17,
     "metadata": {},
     "output_type": "execute_result"
    }
   ],
   "source": [
    "eng2Span // sorted based on key"
   ]
  },
  {
   "cell_type": "code",
   "execution_count": 18,
   "metadata": {},
   "outputs": [],
   "source": [
    "// sinco is misspelled; let's correct its spelling\n",
    "eng2Span[\"five\"] = \"cinco\";"
   ]
  },
  {
   "cell_type": "code",
   "execution_count": 19,
   "metadata": {},
   "outputs": [
    {
     "name": "stdout",
     "output_type": "stream",
     "text": [
      " five in English is cinco in Spanish."
     ]
    }
   ],
   "source": [
    "cout << \" five in English is \" << eng2Span[\"five\"] << \" in Spanish.\";"
   ]
  },
  {
   "cell_type": "markdown",
   "metadata": {},
   "source": [
    "## Capacity\n",
    "- similar to vecotr, map provides member functions to find the capacity of map containers\n",
    "- **empty()** : checks whethere the container is empty\n",
    "- **size()** : returns the number of elements\n",
    "    - recall, each element of map is key->value pair\n",
    "- **max_size()** : returns the maximum possible number of elements"
   ]
  },
  {
   "cell_type": "code",
   "execution_count": 20,
   "metadata": {},
   "outputs": [
    {
     "name": "stdout",
     "output_type": "stream",
     "text": [
      "is eng2Span empty? false\n",
      "is prices map empty? false\n",
      "total number of key->value pairs in prices: 6\n",
      "max_size of prices: 288230376151711743\n"
     ]
    }
   ],
   "source": [
    "cout << boolalpha; // convert boolean to text true/false\n",
    "cout << \"is eng2Span empty? \" << eng2Span.empty() << endl;\n",
    "cout << \"is prices map empty? \" << prices.empty() << endl;\n",
    "cout << \"total number of key->value pairs in prices: \" << prices.size() << endl;\n",
    "cout << \"max_size of prices: \" << prices.max_size() << endl;"
   ]
  },
  {
   "cell_type": "markdown",
   "metadata": {},
   "source": [
    "## Modifying maps\n",
    "- map objects also provide some member functions to modify the contents of the containers\n",
    "- **clear()** : clears the contents\n",
    "- **[key]** : modifies value at the specified key"
   ]
  },
  {
   "cell_type": "code",
   "execution_count": 21,
   "metadata": {},
   "outputs": [],
   "source": [
    "map<string, int> adultsAge = {{\"John\",21}, {\"Maya\",74}, {\"Jenny\", 46}, {\"Jordan\", 48}, {\"Mike\", 46}};"
   ]
  },
  {
   "cell_type": "code",
   "execution_count": 22,
   "metadata": {},
   "outputs": [
    {
     "data": {
      "text/plain": [
       "{ \"Jenny\" => 46, \"John\" => 21, \"Jordan\" => 48, \"Maya\" => 74, \"Mike\" => 46 }"
      ]
     },
     "execution_count": 22,
     "metadata": {},
     "output_type": "execute_result"
    }
   ],
   "source": [
    "// can't cin/cout map objects as a whole\n",
    "adultsAge"
   ]
  },
  {
   "cell_type": "code",
   "execution_count": 23,
   "metadata": {},
   "outputs": [],
   "source": [
    "//increment Jonhn's age by 1\n",
    "adultsAge[\"John\"]++;"
   ]
  },
  {
   "cell_type": "code",
   "execution_count": 24,
   "metadata": {},
   "outputs": [
    {
     "data": {
      "text/plain": [
       "{ \"Jenny\" => 46, \"John\" => 22, \"Jordan\" => 48, \"Maya\" => 74, \"Mike\" => 46 }"
      ]
     },
     "execution_count": 24,
     "metadata": {},
     "output_type": "execute_result"
    }
   ],
   "source": [
    "// should be empty\n",
    "adultsAge"
   ]
  },
  {
   "cell_type": "code",
   "execution_count": 25,
   "metadata": {},
   "outputs": [],
   "source": [
    "// delete all the elements\n",
    "adultsAge.clear()"
   ]
  },
  {
   "cell_type": "code",
   "execution_count": 26,
   "metadata": {},
   "outputs": [
    {
     "data": {
      "text/plain": [
       "{}"
      ]
     },
     "execution_count": 26,
     "metadata": {},
     "output_type": "execute_result"
    }
   ],
   "source": [
    "// check the content to make sure adultsAge is empty!\n",
    "adultsAge"
   ]
  },
  {
   "cell_type": "code",
   "execution_count": 27,
   "metadata": {},
   "outputs": [
    {
     "data": {
      "text/plain": [
       "true"
      ]
     },
     "execution_count": 27,
     "metadata": {},
     "output_type": "execute_result"
    }
   ],
   "source": [
    "adultsAge.empty()"
   ]
  },
  {
   "cell_type": "markdown",
   "metadata": {},
   "source": [
    "## Aggregate operations\n",
    "- comparison operators ==, !=, <, >, <=, and >= are overloaded and work between two maps\n",
    "    - elements are compared lexicographically\n",
    "- cin/cout doesn't work as a whole\n",
    "- math operations don't work as a whole"
   ]
  },
  {
   "cell_type": "markdown",
   "metadata": {},
   "source": [
    "## Traversing maps\n",
    "- map containers can be traveresed from the first element to the last (similar to array, string and vector)\n",
    "- map provides iterators similar to iterators in string or vector\n",
    "    - let's you iterate over all the elements\n",
    "- iterator of map is a special pointer that has two elements **first** and **second**\n",
    "    - first is the key and second is the value\n",
    "- **begin** - returns an iterator to the beginning (first element)\n",
    "- **end** - returns an iterator to the end (past the last element)\n",
    "- **rbegin** - returns a reverse iterator to the beginning (past the last element)\n",
    "- **rend** - returns a reverse iterator to the end (past the first element)\n",
    "\n",
    "![](resources/range-rbegin-rend.png)\n"
   ]
  },
  {
   "cell_type": "code",
   "execution_count": 28,
   "metadata": {},
   "outputs": [],
   "source": [
    "map<int, string> amap = {{10, \"val1\"}, {15, \"val2\"}, {20, \"val3\"}, {30, \"val4\"}, {35, \"val5\"}};"
   ]
  },
  {
   "cell_type": "code",
   "execution_count": 29,
   "metadata": {},
   "outputs": [
    {
     "name": "stdout",
     "output_type": "stream",
     "text": [
      "10 => val1\n",
      "15 => val2\n",
      "20 => val3\n",
      "30 => val4\n",
      "35 => val5\n"
     ]
    }
   ],
   "source": [
    "for(auto iterator = amap.begin(); iterator != amap.end(); iterator++)\n",
    "    cout << (*iterator).first << \" => \" << iterator->second << endl;"
   ]
  },
  {
   "cell_type": "code",
   "execution_count": 30,
   "metadata": {},
   "outputs": [
    {
     "name": "stdout",
     "output_type": "stream",
     "text": [
      "10 -> val1\n",
      "15 -> val2\n",
      "20 -> val3\n",
      "30 -> val4\n",
      "35 -> val5\n"
     ]
    }
   ],
   "source": [
    "// iterate using range-based loop\n",
    "for (auto e : amap)\n",
    "    cout << e.first << \" -> \" << e.second << endl;"
   ]
  },
  {
   "cell_type": "code",
   "execution_count": 31,
   "metadata": {},
   "outputs": [],
   "source": [
    "// type alias\n",
    "using mii = map<int, int>;"
   ]
  },
  {
   "cell_type": "code",
   "execution_count": 32,
   "metadata": {},
   "outputs": [],
   "source": [
    "mii map1 = {{1,10}, {2,20}, {3,30}, {4,40}, {5,50}};"
   ]
  },
  {
   "cell_type": "code",
   "execution_count": 37,
   "metadata": {},
   "outputs": [
    {
     "data": {
      "text/plain": [
       "{ 1 => 10, 2 => 20, 3 => 30, 4 => 40, 5 => 50 }"
      ]
     },
     "execution_count": 37,
     "metadata": {},
     "output_type": "execute_result"
    }
   ],
   "source": [
    "map1"
   ]
  },
  {
   "cell_type": "markdown",
   "metadata": {},
   "source": [
    "## Lookup lements\n",
    "- map containers provide member functions to search for element with given key in a map container\n",
    "    - is typically used if you're not sure if a given key exists or not\n",
    "- **count(key)** : returns the number of elements matching specific key (always 1 if exists, 0 otherwise)\n",
    "- **find(key)** : finds elements with specific key, returns iterator"
   ]
  },
  {
   "cell_type": "code",
   "execution_count": 38,
   "metadata": {},
   "outputs": [],
   "source": [
    "// map char to its ASCII value\n",
    "map<char, int> mapci = {{'a', 'a'}, {'b', 'b'}, {'c', 'c'}, {'A', 'A'}, {'B', 'B'}, {'1', '1'}};"
   ]
  },
  {
   "cell_type": "code",
   "execution_count": 39,
   "metadata": {},
   "outputs": [
    {
     "data": {
      "text/plain": [
       "{ '1' => 49, 'A' => 65, 'B' => 66, 'a' => 97, 'b' => 98, 'c' => 99 }"
      ]
     },
     "execution_count": 39,
     "metadata": {},
     "output_type": "execute_result"
    }
   ],
   "source": [
    "mapci"
   ]
  },
  {
   "cell_type": "code",
   "execution_count": 40,
   "metadata": {},
   "outputs": [
    {
     "name": "stdout",
     "output_type": "stream",
     "text": [
      "1\n"
     ]
    }
   ],
   "source": [
    "cout << mapci.count('a') << endl;"
   ]
  },
  {
   "cell_type": "code",
   "execution_count": 41,
   "metadata": {},
   "outputs": [
    {
     "name": "stdout",
     "output_type": "stream",
     "text": [
      "0\n"
     ]
    }
   ],
   "source": [
    "cout << mapci.count('z') << endl;"
   ]
  },
  {
   "cell_type": "code",
   "execution_count": 42,
   "metadata": {},
   "outputs": [
    {
     "name": "stdout",
     "output_type": "stream",
     "text": [
      "Found!"
     ]
    }
   ],
   "source": [
    "if (mapci.count('a') == 1)\n",
    "    cout << \"Found!\";\n",
    "else\n",
    "    cout << \"Not found!\";"
   ]
  },
  {
   "cell_type": "code",
   "execution_count": 43,
   "metadata": {},
   "outputs": [
    {
     "name": "stdout",
     "output_type": "stream",
     "text": [
      "found c => 99\n"
     ]
    }
   ],
   "source": [
    "// find method; returns iterator\n",
    "auto it = mapci.find('c');\n",
    "if (it != mapci.end())\n",
    "    cout << \"found \" << it->first << \" => \" << it->second << endl;\n",
    "else\n",
    "    cout << \"NOT found!\";"
   ]
  },
  {
   "cell_type": "code",
   "execution_count": 44,
   "metadata": {},
   "outputs": [],
   "source": [
    "// erase using iterator\n",
    "it = mapci.erase(it);"
   ]
  },
  {
   "cell_type": "code",
   "execution_count": 45,
   "metadata": {},
   "outputs": [
    {
     "data": {
      "text/plain": [
       "{ '1' => 49, 'A' => 65, 'B' => 66, 'a' => 97, 'b' => 98 }"
      ]
     },
     "execution_count": 45,
     "metadata": {},
     "output_type": "execute_result"
    }
   ],
   "source": [
    "// it points to key 'c', so it must be erased\n",
    "mapci"
   ]
  },
  {
   "cell_type": "markdown",
   "metadata": {},
   "source": [
    "## Passing map objects to functions\n",
    "- map objects can be passed by value and by reference\n",
    "- pass by reference is preferred to prevent copying all the elements unless it's necessary"
   ]
  },
  {
   "cell_type": "code",
   "execution_count": 46,
   "metadata": {},
   "outputs": [],
   "source": [
    "// linear search function that returns true if key is found in someMap\n",
    "// better to use map.find()\n",
    "bool searchMap(const map<char, int> & someMap, char key) {\n",
    "    for (auto element : someMap)\n",
    "        if (element.first == key) return true;\n",
    "    return false;\n",
    "}"
   ]
  },
  {
   "cell_type": "code",
   "execution_count": 47,
   "metadata": {},
   "outputs": [
    {
     "name": "stdout",
     "output_type": "stream",
     "text": [
      "A exists as key? true"
     ]
    }
   ],
   "source": [
    "cout << boolalpha << \"A exists as key? \" << searchMap(mapci, 'A');"
   ]
  },
  {
   "cell_type": "code",
   "execution_count": 48,
   "metadata": {},
   "outputs": [
    {
     "name": "stdout",
     "output_type": "stream",
     "text": [
      "$ exists as key? false"
     ]
    }
   ],
   "source": [
    "cout << boolalpha << \"$ exists as key? \" << searchMap(mapci, '$');"
   ]
  },
  {
   "cell_type": "markdown",
   "metadata": {},
   "source": [
    "## Returning map objects from functions\n",
    "- map objects can be returned from functions\n",
    "- however, pass by reference is preferred to get the data out of function instead of explicitly returning a map"
   ]
  },
  {
   "cell_type": "code",
   "execution_count": 49,
   "metadata": {},
   "outputs": [],
   "source": [
    "// function updates the map using pass-by-reference\n",
    "void createMap(map<int, string> & m) {\n",
    "    m[1] = \"one\";\n",
    "    m[2] = \"two\";\n",
    "    m[3] = \"three\";\n",
    "    m[4] = \"four\";\n",
    "    // ...etc.\n",
    "}"
   ]
  },
  {
   "cell_type": "code",
   "execution_count": 50,
   "metadata": {},
   "outputs": [],
   "source": [
    "// create an empty map\n",
    "map<int, string> numbers;"
   ]
  },
  {
   "cell_type": "code",
   "execution_count": 51,
   "metadata": {},
   "outputs": [],
   "source": [
    "// let's create the map using function\n",
    "createMap(numbers);"
   ]
  },
  {
   "cell_type": "code",
   "execution_count": 52,
   "metadata": {},
   "outputs": [
    {
     "data": {
      "text/plain": [
       "{ 1 => \"one\", 2 => \"two\", 3 => \"three\", 4 => \"four\" }"
      ]
     },
     "execution_count": 52,
     "metadata": {},
     "output_type": "execute_result"
    }
   ],
   "source": [
    "// check the contents if the function inserted elements into map\n",
    "numbers"
   ]
  },
  {
   "cell_type": "markdown",
   "metadata": {},
   "source": [
    "<a id=\"applications\"></a>"
   ]
  },
  {
   "cell_type": "markdown",
   "metadata": {},
   "source": [
    "## Applications\n",
    "- map is a fast data structure that can help us solve many problems\n",
    "\n",
    "#### Keep track of menu items and the customers who ordered those items\n",
    "- e.g. https://open.kattis.com/problems/baconeggsandspam"
   ]
  },
  {
   "cell_type": "code",
   "execution_count": 53,
   "metadata": {},
   "outputs": [],
   "source": [
    "#include <map>\n",
    "#include <vector>\n",
    "#include <algorithm>\n",
    "#include <string>\n",
    "\n",
    "using namespace std;"
   ]
  },
  {
   "cell_type": "code",
   "execution_count": 54,
   "metadata": {},
   "outputs": [],
   "source": [
    "map<string, vector<string> > items;"
   ]
  },
  {
   "cell_type": "code",
   "execution_count": 55,
   "metadata": {},
   "outputs": [],
   "source": [
    "// bacon is ordered by John\n",
    "items[\"bacon\"].push_back(\"John\");"
   ]
  },
  {
   "cell_type": "code",
   "execution_count": 56,
   "metadata": {},
   "outputs": [],
   "source": [
    "// bacon is ordered by Jim\n",
    "items[\"bacon\"].push_back(\"Jim\");"
   ]
  },
  {
   "cell_type": "code",
   "execution_count": 57,
   "metadata": {},
   "outputs": [
    {
     "data": {
      "text/plain": [
       "{ \"John\", \"Jim\" }"
      ]
     },
     "execution_count": 57,
     "metadata": {},
     "output_type": "execute_result"
    }
   ],
   "source": [
    "// see all the custumers who ordered bacon\n",
    "items[\"bacon\"]"
   ]
  },
  {
   "cell_type": "code",
   "execution_count": 58,
   "metadata": {},
   "outputs": [
    {
     "name": "stdout",
     "output_type": "stream",
     "text": [
      "bacon Jim John"
     ]
    }
   ],
   "source": [
    "// menu is an element with (key, value) pair\n",
    "for (auto menu : items) {\n",
    "    cout << menu.first; // print key  (menu item)\n",
    "    // sort value (vector of customers)\n",
    "    sort(menu.second.begin(), menu.second.end());\n",
    "    // print each value in the vector which is the second element of p\n",
    "    for (auto customer: menu.second)\n",
    "        cout << \" \" << customer;\n",
    "}"
   ]
  },
  {
   "cell_type": "code",
   "execution_count": 59,
   "metadata": {},
   "outputs": [],
   "source": [
    "// sort the vector with the key 'bacon' in descending (non-increasing) order\n",
    "sort(items[\"bacon\"].begin(), items[\"bacon\"].end(),  greater<string>());"
   ]
  },
  {
   "cell_type": "code",
   "execution_count": 60,
   "metadata": {},
   "outputs": [
    {
     "data": {
      "text/plain": [
       "{ \"John\", \"Jim\" }"
      ]
     },
     "execution_count": 60,
     "metadata": {},
     "output_type": "execute_result"
    }
   ],
   "source": [
    "// see the sorted vector\n",
    "items[\"bacon\"]"
   ]
  },
  {
   "cell_type": "markdown",
   "metadata": {},
   "source": [
    "## Labs\n",
    "\n",
    "- 1. The following lab demonstrates the usage of map data structure.\n",
    "    - use partial solution `main.cpp` file in `./labs/maps/sevenwonders/` folder\n",
    "    - update and use `Makefile` to compile and debug the program\n",
    "    - fixe all the FIXMEs and write #FIXED# next to each FIXME once fixed\n",
    "    - submit the fixed solution to Kattis to get Accepted verdict"
   ]
  },
  {
   "cell_type": "markdown",
   "metadata": {},
   "source": [
    "## Exercises\n",
    "1. Write a function that finds and returns the letter frequency in a given word.\n",
    "    - write 3 automated test cases"
   ]
  },
  {
   "cell_type": "code",
   "execution_count": 1,
   "metadata": {},
   "outputs": [],
   "source": [
    "// Sample solution for Exercise 1\n",
    "#include <cctype>\n",
    "#include <string>\n",
    "#include <map>\n",
    "#include <vector>\n",
    "#include <iostream>\n",
    "#include <cassert>\n",
    "\n",
    "using namespace std;"
   ]
  },
  {
   "cell_type": "code",
   "execution_count": 2,
   "metadata": {},
   "outputs": [],
   "source": [
    "// returns true if key is found; false otherwise\n",
    "bool searchMap1(const map<char, int> m, char key) {\n",
    "    auto find = m.find(key);\n",
    "    return (find != m.end());\n",
    "}"
   ]
  },
  {
   "cell_type": "code",
   "execution_count": 3,
   "metadata": {},
   "outputs": [],
   "source": [
    "void test_searchMap() {\n",
    "    assert(searchMap1({{'a', 1}, {'b', 5}, {'!', 1}}, 'a') == true);\n",
    "    assert(searchMap1({{'q', 2}, {'Z', 1}}, 'm') == false);\n",
    "    cerr << \"all test cases passed for searchMap\\n\";\n",
    "}"
   ]
  },
  {
   "cell_type": "code",
   "execution_count": 4,
   "metadata": {},
   "outputs": [
    {
     "name": "stderr",
     "output_type": "stream",
     "text": [
      "all test cases passed for searchMap\n"
     ]
    }
   ],
   "source": [
    "test_searchMap();"
   ]
  },
  {
   "cell_type": "code",
   "execution_count": 5,
   "metadata": {},
   "outputs": [],
   "source": [
    "// function finds and returns frequency of each character\n",
    "void letterFrequency(string text, map<char, int> & freq) {\n",
    "    for (char ch: text) {\n",
    "        ch = char(tolower(ch)); // make case insensitive\n",
    "        // find each c in freq map\n",
    "        if (searchMap1(freq, ch)) // found\n",
    "            freq[ch] += 1; // update frequency by 1\n",
    "        else\n",
    "            freq[ch] = 1; // add new element\n",
    "    }\n",
    "}"
   ]
  },
  {
   "cell_type": "code",
   "execution_count": 6,
   "metadata": {},
   "outputs": [],
   "source": [
    "void test_letterFrequency() {\n",
    "    map<char, int> ans;\n",
    "    letterFrequency(\"Hi!\", ans);\n",
    "    map<char, int> expected = {{'!', 1}, {'h', 1}, {'i', 1}};\n",
    "    assert(ans == expected);\n",
    "    ans.clear();\n",
    "    letterFrequency(\"Yo yO\", ans);\n",
    "    map<char, int> expected1 = {{' ', 1}, {'o', 2}, {'y', 2}};\n",
    "    assert(ans == expected1);\n",
    "    ans.clear();\n",
    "    letterFrequency(\"Mississippi\", ans);\n",
    "    map<char, int> expected2 = {{'i', 4}, {'m', 1}, {'p', 2}, {'s', 4}};\n",
    "    assert(ans == expected2);\n",
    "    cerr << \"all test cases passed for letterFrequency()\\n\";\n",
    "}"
   ]
  },
  {
   "cell_type": "code",
   "execution_count": 7,
   "metadata": {},
   "outputs": [
    {
     "name": "stderr",
     "output_type": "stream",
     "text": [
      "all test cases passed for letterFrequency()\n"
     ]
    }
   ],
   "source": [
    "test_letterFrequency();"
   ]
  },
  {
   "cell_type": "code",
   "execution_count": 8,
   "metadata": {},
   "outputs": [],
   "source": [
    "string input;"
   ]
  },
  {
   "cell_type": "code",
   "execution_count": 9,
   "metadata": {},
   "outputs": [
    {
     "name": "stdout",
     "output_type": "stream",
     "text": [
      "Enter some text:This is some text!\n"
     ]
    }
   ],
   "source": [
    "cout << \"Enter some text:\";\n",
    "getline(cin, input);"
   ]
  },
  {
   "cell_type": "code",
   "execution_count": 10,
   "metadata": {},
   "outputs": [
    {
     "data": {
      "text/plain": [
       "\"This is some text!\""
      ]
     },
     "execution_count": 10,
     "metadata": {},
     "output_type": "execute_result"
    }
   ],
   "source": [
    "input"
   ]
  },
  {
   "cell_type": "code",
   "execution_count": 11,
   "metadata": {},
   "outputs": [],
   "source": [
    "map<char, int> answer;"
   ]
  },
  {
   "cell_type": "code",
   "execution_count": 12,
   "metadata": {},
   "outputs": [],
   "source": [
    "letterFrequency(input, answer);"
   ]
  },
  {
   "cell_type": "code",
   "execution_count": 13,
   "metadata": {},
   "outputs": [
    {
     "data": {
      "text/plain": [
       "{ ' ' => 3, '!' => 1, 'e' => 2, 'h' => 1, 'i' => 2, 'm' => 1, 'o' => 1, 's' => 3, 't' => 3, 'x' => 1 }"
      ]
     },
     "execution_count": 13,
     "metadata": {},
     "output_type": "execute_result"
    }
   ],
   "source": [
    "answer"
   ]
  },
  {
   "cell_type": "markdown",
   "metadata": {},
   "source": [
    "### complete sample solution for Exercise 1 is at `demos/maps/letter_frequency/`\n",
    "\n",
    "\n",
    "2. Write a function that finds and returns the frequency of vowels in a given word.\n",
    "    - write 3 automated test cases"
   ]
  },
  {
   "cell_type": "markdown",
   "metadata": {},
   "source": [
    "3. Write a program that reads some text data and prints a frequency table of the letters in alphabetical order. Case and punctionals should be ignored. A sample output of the program when the user enters the data \"ThiS is String with Upper and lower case Letters\", would look this:\n",
    "<pre>\n",
    "a  2\n",
    "c  1\n",
    "d  1\n",
    "e  5\n",
    "g  1\n",
    "h  2\n",
    "i  4\n",
    "l  2\n",
    "n  2\n",
    "o  1\n",
    "p  2\n",
    "r  4\n",
    "s  5\n",
    "t  5\n",
    "u  1\n",
    "w  2\n",
    "</pre>\n",
    "    - design your program in such a way that you write automated test cases\n",
    "    - prompt user to enter some text\n",
    "    - use as many functions as possible\n",
    "    - write at least 3 test cases for each function that computes some results"
   ]
  },
  {
   "cell_type": "markdown",
   "metadata": {},
   "source": [
    "## Kattis problems\n",
    "\n",
    "- several problems in Kattis can be solved easier if map is used\n",
    "- here are some of the problems that can be solved using map data structure\n",
    "\n",
    "\n",
    "1. I've Been Everywhere, Man -  https://open.kattis.com/problems/everywhere\n",
    "2. Seven Wonders - https://open.kattis.com/problems/sevenwonders\n",
    "3. ACM Contest Scoring - https://open.kattis.com/problems/acm\n",
    "4. Stacking Cups - https://open.kattis.com/problems/cups\n",
    "5. A New Alphabet - https://open.kattis.com/problems/anewalphabet\n",
    "6. Words for Numbers - https://open.kattis.com/problems/wordsfornumbers\n",
    "7. Babelfish - https://open.kattis.com/problems/babelfish\n",
    "8. Popular Vote - https://open.kattis.com/problems/vote\n",
    "9. Adding Words - https://open.kattis.com/problems/addingwords\n",
    "10. Grandpa Bernie - https://open.kattis.com/problems/grandpabernie\n",
    "11. Judging Troubles - https://open.kattis.com/problems/judging\n",
    "12. Not Amused - https://open.kattis.com/problems/notamused\n",
    "13. Engineering English - https://open.kattis.com/problems/engineeringenglish\n",
    "14. Hardwood Species - https://open.kattis.com/problems/hardwoodspecies\n",
    "15. Conformity - https://open.kattis.com/problems/conformity\n",
    "16. Galactic Collegiate Programming Contest - https://open.kattis.com/problems/gcpc\n",
    "17. Simplicity - https://open.kattis.com/problems/simplicity\n",
    "18. Accounting - https://open.kattis.com/problems/bokforing\n",
    "19. Soundex - https://open.kattis.com/problems/soundex\n",
    "20. Nicknames - https://open.kattis.com/problems/nicknames\n",
    "21. Minor Setback - https://open.kattis.com/problems/minorsetback"
   ]
  },
  {
   "cell_type": "markdown",
   "metadata": {},
   "source": [
    "## Summary\n",
    "- learned a very useful associative data structure called map\n",
    "- each element of map is a key-value pair\n",
    "- elements of map are sorted based on key\n",
    "- went through various member functions of map objects and their applications\n",
    "- learned that maps can be passed to functions and can be returned from them as well\n",
    "- exercises and sample solutions"
   ]
  },
  {
   "cell_type": "code",
   "execution_count": null,
   "metadata": {},
   "outputs": [],
   "source": []
  }
 ],
 "metadata": {
  "kernelspec": {
   "display_name": "C++14",
   "language": "C++14",
   "name": "xcpp14"
  },
  "language_info": {
   "codemirror_mode": "text/x-c++src",
   "file_extension": ".cpp",
   "mimetype": "text/x-c++src",
   "name": "c++",
   "version": "14"
  }
 },
 "nbformat": 4,
 "nbformat_minor": 4
}
