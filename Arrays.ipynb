{
 "cells": [
  {
   "cell_type": "markdown",
   "metadata": {},
   "source": [
    "# Arrays\n",
    "\n",
    "## Topics\n",
    "- C-array introduction\n",
    "- static and dynamic arrays\n",
    "- similarity between arrays and pointers\n",
    "- passing arrays to functions\n",
    "- aggregate operations on arrays\n",
    "- C-string - array of characters\n",
    "- buffer overflow security flaw\n",
    "- sorting data\n",
    "- 2-d array and tic-tac-toe game"
   ]
  },
  {
   "cell_type": "markdown",
   "metadata": {},
   "source": [
    "## Array\n",
    "- dictionary defintion of array is a range of a particular type of thing\n",
    "- we've used single variable to store single data/value\n",
    "- large programs typically deal with a large number of data values that must be stored in memory\n",
    "    e.g. sorting data values.\n",
    "- NOT practicle to declare a large number of variables to store a large number of values\n",
    "- array is a container used to store a large number of same type values under one name\n",
    "- array we're learning about in this chapter is C-array\n",
    "- since C++11 standard, C++ provides **array** and **vector** types under STL (standard template library)\n",
    "    - these advanced types (array and vector) are similar to C++ string type\n",
    "- understanding the C-array helps understand many C++ concepts and data structures that rely on C-array\n",
    "    - plus, a large no. of legacy C++ codebase and libraries specially developed before C++11 may be still using C-array \n",
    "- C++ vector is a better choice among C++ **array** and C-array, if your comipler supports it\n",
    "    - vector takes care of all the common operations one would do in an array\n",
    "    - similar to C-string (more below) vs C++ string\n",
    "    \n",
    "- array in this notebook refers to C-array\n",
    "- there are two types of array:\n",
    "    1. static array\n",
    "    2. dynamic array\n",
    "    \n",
    "## Static array\n",
    "- the size of the array is determined during compile-time and is fixed\n",
    "- local static array is stored on stack memory segment\n",
    "- syntax to declare a static array\n",
    "\n",
    "```cpp\n",
    "type arrayName[size];\n",
    "```\n",
    "\n",
    "- `size` tells the compiler how many of similar type of values can be stored in the arrayName\n",
    "- `size` must be a positive integer (size_t type) - literal or variable\n",
    "- the following figure depicts computer memory when an array of `int` is declared\n",
    "\n",
    "![](resources/array.png)\n",
    "\n",
    "- each member of the array is called an element\n",
    "- each element has same type and share same array name but different index\n",
    "- index also called offset ranges between 0 to size-1\n",
    "\n",
    "### Visualize array using [pythontutor.com](http://pythontutor.com/cpp.html#code=//%20pass%20by%20value%20demo%0A%23include%20%3Ciostream%3E%0Ausing%20namespace%20std%3B%0A%0Aint%20main%28%29%20%7B%0A%20%20int%20nums%5B5%5D%3B%0A%20%20nums%5B0%5D%20%3D%2010%3B%0A%20%20nums%5B1%5D%20%3D%2020%3B%0A%20%20nums%5B2%5D%20%3D%2030%3B%0A%20%20nums%5B3%5D%20%3D%2040%3B%0A%20%20nums%5B4%5D%20%3D%2050%3B%0A%20%20nums%5B1%5D%20%3D%20nums%5B2%5D%20%2B%20nums%5B3%5D%3B%0A%20%20for%28int%20i%3D0%3B%20i%3C5%3B%20i%2B%2B%29%0A%20%20%20%20cout%20%3C%3C%20nums%5Bi%5D%20%3C%3C%20endl%3B%0A%20%20return%200%3B%0A%7D&curInstr=0&mode=display&origin=opt-frontend.js&py=cpp&rawInputLstJSON=%5B%5D)"
   ]
  },
  {
   "cell_type": "code",
   "execution_count": 1,
   "metadata": {},
   "outputs": [],
   "source": [
    "#include <iostream>\n",
    "#include <string>\n",
    "\n",
    "using namespace std;"
   ]
  },
  {
   "cell_type": "code",
   "execution_count": 2,
   "metadata": {},
   "outputs": [],
   "source": [
    "// nums array to store 5 integers\n",
    "int nums[5];"
   ]
  },
  {
   "cell_type": "markdown",
   "metadata": {},
   "source": [
    "### Accessing member elements\n",
    "- members can be accessed and used ONLY one element per operation\n",
    "- no aggregate operation is allowed on the array variable as a whole\n",
    "    - e.g. copy one array into another; printing the whole array, etc.\n",
    "    - only aggregate operation allowed is during array initialization"
   ]
  },
  {
   "cell_type": "code",
   "execution_count": 3,
   "metadata": {},
   "outputs": [],
   "source": [
    "// access and store values into each element\n",
    "nums[0] = 10;\n",
    "nums[1] = 20;\n",
    "nums[2] = 30;\n",
    "nums[3] = 40;\n",
    "nums[4] = 50;"
   ]
  },
  {
   "cell_type": "code",
   "execution_count": 4,
   "metadata": {},
   "outputs": [
    {
     "name": "stdout",
     "output_type": "stream",
     "text": [
      "10"
     ]
    }
   ],
   "source": [
    "// access some element\n",
    "cout << nums[0];"
   ]
  },
  {
   "cell_type": "code",
   "execution_count": 5,
   "metadata": {},
   "outputs": [],
   "source": [
    "// each element can be used like a single variable\n",
    "nums[1] = nums[2] + nums[3];"
   ]
  },
  {
   "cell_type": "code",
   "execution_count": 6,
   "metadata": {},
   "outputs": [
    {
     "name": "stdout",
     "output_type": "stream",
     "text": [
      "0 -> 10\n",
      "1 -> 70\n",
      "2 -> 30\n",
      "3 -> 40\n",
      "4 -> 50\n"
     ]
    }
   ],
   "source": [
    "// traverse an array\n",
    "for(int i=0; i<5; i++) {\n",
    "    cout << i << \" -> \" << nums[i] << endl;\n",
    "}"
   ]
  },
  {
   "cell_type": "code",
   "execution_count": 7,
   "metadata": {},
   "outputs": [],
   "source": [
    "// declaring and initializing an array\n",
    "// size is optinal; will be determined with the no. of values it's initialzed with\n",
    "float grades[] = {90.5f, 34.5f, 56, 81.f, 99.f, 100, 89.9};"
   ]
  },
  {
   "cell_type": "code",
   "execution_count": 8,
   "metadata": {},
   "outputs": [
    {
     "name": "stdout",
     "output_type": "stream",
     "text": [
      "0x1075e47e0"
     ]
    }
   ],
   "source": [
    "cout << grades;"
   ]
  },
  {
   "cell_type": "markdown",
   "metadata": {},
   "source": [
    "## Member functions\n",
    "- C-array is so primitive that it doesn't come with any useful operations or member functions\n",
    "- implementing any array operation falls under programmer's responsibility!\n",
    "- e.g. how can you quickly tell the size or length of an array?"
   ]
  },
  {
   "cell_type": "code",
   "execution_count": 9,
   "metadata": {},
   "outputs": [
    {
     "name": "stderr",
     "output_type": "stream",
     "text": [
      "\u001b[1minput_line_16:2:8: \u001b[0m\u001b[0;1;31merror: \u001b[0m\u001b[1mmember reference base type 'float [7]' is not a structure or union\u001b[0m\n",
      " grades.size();\n",
      "\u001b[0;1;32m ~~~~~~^~~~~\n",
      "\u001b[0m"
     ]
    },
    {
     "ename": "Interpreter Error",
     "evalue": "",
     "output_type": "error",
     "traceback": [
      "Interpreter Error: "
     ]
    }
   ],
   "source": [
    "grades.size();"
   ]
  },
  {
   "cell_type": "code",
   "execution_count": 10,
   "metadata": {},
   "outputs": [],
   "source": [
    "// finding the size of the array\n",
    "size_t arr_size = sizeof(grades)/float(sizeof(float));"
   ]
  },
  {
   "cell_type": "code",
   "execution_count": 11,
   "metadata": {},
   "outputs": [
    {
     "name": "stdout",
     "output_type": "stream",
     "text": [
      "array's size or length = 7"
     ]
    }
   ],
   "source": [
    "cout << \"array's size or length = \" << arr_size;"
   ]
  },
  {
   "cell_type": "code",
   "execution_count": 12,
   "metadata": {},
   "outputs": [
    {
     "name": "stdout",
     "output_type": "stream",
     "text": [
      "last grade = 89.9\n"
     ]
    }
   ],
   "source": [
    "cout << \"last grade = \" << grades[arr_size-1] << endl;"
   ]
  },
  {
   "cell_type": "markdown",
   "metadata": {},
   "source": [
    "### Array size is fixed!\n",
    "- one has to know how many elements will be stored in a given array\n",
    "- what happens when the array is full?"
   ]
  },
  {
   "cell_type": "code",
   "execution_count": 13,
   "metadata": {},
   "outputs": [
    {
     "name": "stderr",
     "output_type": "stream",
     "text": [
      "\u001b[1minput_line_20:3:1: \u001b[0m\u001b[0;1;35mwarning: \u001b[0m\u001b[1marray index 7 is past the end of the array (which contains 7 elements) [-Warray-bounds]\u001b[0m\n",
      "grades[7] = 67;\n",
      "\u001b[0;1;32m^      ~\n",
      "\u001b[0m\u001b[1minput_line_14:4:1: \u001b[0m\u001b[0;1;30mnote: \u001b[0marray 'grades' declared here\u001b[0m\n",
      "float grades[] = {90.5f, 34.5f, 56, 81.f, 99.f, 100, 89.9};\n",
      "\u001b[0;1;32m^\n",
      "\u001b[0m"
     ]
    }
   ],
   "source": [
    "// grades doesn't have index 7 as the size is 7\n",
    "grades[7] = 67;"
   ]
  },
  {
   "cell_type": "markdown",
   "metadata": {},
   "source": [
    "## Array and Pointers\n",
    "- there's a lot of similarities on how array and pointers work!\n",
    "    - they can be used interchangebly as desired"
   ]
  },
  {
   "cell_type": "code",
   "execution_count": 14,
   "metadata": {},
   "outputs": [],
   "source": [
    "int ids[] = {100, 200, 300, 400};"
   ]
  },
  {
   "cell_type": "code",
   "execution_count": 15,
   "metadata": {},
   "outputs": [
    {
     "name": "stdout",
     "output_type": "stream",
     "text": [
      "0x1075e4fc0"
     ]
    }
   ],
   "source": [
    "cout << ids;"
   ]
  },
  {
   "cell_type": "code",
   "execution_count": 16,
   "metadata": {},
   "outputs": [],
   "source": [
    "// copy the base address of array\n",
    "// which is the address of element at index 0; which is &ids[0];\n",
    "int * ptr = ids;"
   ]
  },
  {
   "cell_type": "code",
   "execution_count": 17,
   "metadata": {},
   "outputs": [
    {
     "name": "stdout",
     "output_type": "stream",
     "text": [
      "0x1075e4fc0 equals to 0x1075e4fc0 equals to 0x1075e4fc0"
     ]
    }
   ],
   "source": [
    "// print the base memory addresses\n",
    "cout << ptr << \" equals to \" << &ids[0] << \" equals to \" << ids;"
   ]
  },
  {
   "cell_type": "code",
   "execution_count": 18,
   "metadata": {},
   "outputs": [
    {
     "name": "stdout",
     "output_type": "stream",
     "text": [
      "100 equals to 100 equals to 100"
     ]
    }
   ],
   "source": [
    "// print the data located at the base memory addresses\n",
    "cout << *ptr << \" equals to \" << ids[0] << \" equals to \" << *ids;"
   ]
  },
  {
   "cell_type": "code",
   "execution_count": 19,
   "metadata": {},
   "outputs": [],
   "source": [
    "// using pointers to traverse array\n",
    "// point to the second element\n",
    "ptr++;"
   ]
  },
  {
   "cell_type": "code",
   "execution_count": 20,
   "metadata": {},
   "outputs": [
    {
     "name": "stdout",
     "output_type": "stream",
     "text": [
      "200\n"
     ]
    }
   ],
   "source": [
    "// dereference the value at that location\n",
    "cout << *ptr << endl;"
   ]
  },
  {
   "cell_type": "code",
   "execution_count": 21,
   "metadata": {},
   "outputs": [
    {
     "name": "stdout",
     "output_type": "stream",
     "text": [
      "0-> 100 == 100 == 100\n",
      "1-> 200 == 200 == 200\n",
      "2-> 300 == 300 == 300\n",
      "3-> 400 == 400 == 400\n"
     ]
    }
   ],
   "source": [
    "ptr = ids; // copy the base address\n",
    "for(int i=0; i<4; i++) {\n",
    "    cout << i << \"-> \" << *(ptr+i) << \" == \" << ptr[i] << \" == \" << ids[i] << endl;\n",
    "}"
   ]
  },
  {
   "cell_type": "markdown",
   "metadata": {},
   "source": [
    "## Dynamic array\n",
    "- array size can be determined during run time (program execution)\n",
    "    - once the size is set, it's fixed\n",
    "- local dynamic array is allocated on the heap memory segment using pointer and **new** operator\n",
    "- syntax to declare dynamic array:\n",
    "```cpp\n",
    "type * arrayName = new type[size];\n",
    "```\n",
    "- size can be a variable determined or assigned during program execution\n",
    "- once the dynamic array is declared, using dynamic array is same as using static array\n",
    "- dynamic memory must be deallocated to prevent memory leak\n",
    "- syntax:\n",
    "```\n",
    "delete[] arrayName;\n",
    "```\n",
    "\n",
    "### Visualize dynamic array in [pythontutor.com](http://pythontutor.com/cpp.html#code=//%20pass%20by%20value%20demo%0A%23include%20%3Ciostream%3E%0Ausing%20namespace%20std%3B%0A%0Aint%20main%28%29%20%7B%0A%20%20size_t%20arr_size%20%3D%205%3B%0A%20%20int%20*%20nums%20%3D%20new%20int%5Barr_size%5D%3B%0A%20%20nums%5B0%5D%20%3D%2010%3B%0A%20%20nums%5B1%5D%20%3D%2020%3B%0A%20%20nums%5B2%5D%20%3D%2030%3B%0A%20%20nums%5B3%5D%20%3D%2040%3B%0A%20%20nums%5B4%5D%20%3D%2050%3B%0A%20%20nums%5B1%5D%20%3D%20nums%5B2%5D%20%2B%20nums%5B3%5D%3B%0A%20%20for%28int%20i%3D0%3B%20i%3C5%3B%20i%2B%2B%29%0A%20%20%20%20cout%20%3C%3C%20nums%5Bi%5D%20%3C%3C%20endl%3B%0A%20%20%0A%20%20delete%5B%5D%20nums%3B%0A%20%20return%200%3B%0A%7D&curInstr=0&mode=display&origin=opt-frontend.js&py=cpp&rawInputLstJSON=%5B%5D)"
   ]
  },
  {
   "cell_type": "code",
   "execution_count": 22,
   "metadata": {},
   "outputs": [],
   "source": [
    "size_t capacity;"
   ]
  },
  {
   "cell_type": "code",
   "execution_count": 23,
   "metadata": {},
   "outputs": [
    {
     "name": "stdout",
     "output_type": "stream",
     "text": [
      "How many integers would you like to enter? \n",
      "\n",
      "\n",
      "\n",
      "\n",
      "5\n"
     ]
    }
   ],
   "source": [
    "cout << \"How many integers would you like to enter? \";\n",
    "cin >> capacity;"
   ]
  },
  {
   "cell_type": "code",
   "execution_count": 24,
   "metadata": {},
   "outputs": [],
   "source": [
    "int * some_array = new int[capacity];"
   ]
  },
  {
   "cell_type": "code",
   "execution_count": 25,
   "metadata": {},
   "outputs": [
    {
     "name": "stdout",
     "output_type": "stream",
     "text": [
      "Enter a number: 10\n",
      "Enter a number: -5\n",
      "Enter a number: 15\n",
      "Enter a number: 20\n",
      "Enter a number: 30\n"
     ]
    }
   ],
   "source": [
    "// prompt user to store capacity number of integers and store them into array\n",
    "for(int i=0; i<capacity; i++) {\n",
    "    cout << \"Enter a number: \";\n",
    "    cin >> some_array[i];\n",
    "}"
   ]
  },
  {
   "cell_type": "code",
   "execution_count": 26,
   "metadata": {},
   "outputs": [
    {
     "name": "stdout",
     "output_type": "stream",
     "text": [
      "5 10 30"
     ]
    }
   ],
   "source": [
    "// output some values\n",
    "cout << capacity << \" \" << some_array[0] << \" \" << some_array[capacity-1];"
   ]
  },
  {
   "cell_type": "markdown",
   "metadata": {},
   "source": [
    "## Aggregate operations on arrays\n",
    "- some commonly used aggregate operators are (`=`, math operators (`+`, `*`, etc.), comparison operators (`>`, `==`, etc.)\n",
    "- array doesn't allow any aggregate operations as a whole\n",
    "    - e.g. copy one array into another; printing the whole array, etc. are arregate operations\n",
    "    - it doesn't make sense to compare two arrays (compare with what elements' values?)\n",
    "    - Input/Output needs to be done one element at a time\n",
    "    \n",
    "### shallow copy with `=` operator\n",
    "- both dynamic and static arrays CAN'T be copied to another array using `=` operator\n",
    "- both dynamic and static array can be assigned to another dynamic array\n",
    "    - however, it doesn't actually copy the data (shallow copy)\n",
    "- copying one array into another by its name copies only the base address\n",
    "    - thus creating two allias pointing to the same memory location\n",
    "    - if one is modified, the other is modified as well\n",
    "\n",
    "### Visualize shallow copy using [pythontutor.com](http://pythontutor.com/cpp.html#code=//%20shallow%20copy%20array%0A%23include%20%3Ciostream%3E%0Ausing%20namespace%20std%3B%0A%0Aint%20main%28%29%20%7B%0A%20%20int%20array1%5B%5D%20%3D%20%7B1,%202,%203,%204%7D%3B%0A%20%20int%20*%20array2%20%3D%20new%20int%5B4%5D%3B%0A%20%20array2%20%3D%20array1%3B%0A%20%20array2%5B0%5D%20%3D%20100%3B%0A%20%20array1%5B3%5D%20%3D%20400%3B%0A%20%20return%200%3B%0A%7D&curInstr=0&mode=display&origin=opt-frontend.js&py=cpp&rawInputLstJSON=%5B%5D)"
   ]
  },
  {
   "cell_type": "code",
   "execution_count": 27,
   "metadata": {},
   "outputs": [],
   "source": [
    "int * copy_array = new int[arr_size];"
   ]
  },
  {
   "cell_type": "code",
   "execution_count": 28,
   "metadata": {},
   "outputs": [],
   "source": [
    "// try to copy some_array into copy_array as a whole\n",
    "copy_array = some_array;"
   ]
  },
  {
   "cell_type": "code",
   "execution_count": 29,
   "metadata": {},
   "outputs": [
    {
     "name": "stdout",
     "output_type": "stream",
     "text": [
      "10 == 10"
     ]
    }
   ],
   "source": [
    "// let's see some values\n",
    "cout << some_array[0] << \" == \" << copy_array[0];"
   ]
  },
  {
   "cell_type": "code",
   "execution_count": 30,
   "metadata": {},
   "outputs": [],
   "source": [
    "// let's update some_array\n",
    "some_array[0] = 100;"
   ]
  },
  {
   "cell_type": "code",
   "execution_count": 31,
   "metadata": {},
   "outputs": [
    {
     "name": "stdout",
     "output_type": "stream",
     "text": [
      "100 == 100"
     ]
    }
   ],
   "source": [
    "// now, let's see the value of copy_array[0]\n",
    "cout << some_array[0] << \" == \" << copy_array[0];"
   ]
  },
  {
   "cell_type": "markdown",
   "metadata": {},
   "source": [
    "### Deep copy\n",
    "- deep copy refers to the actual copy of the data\n",
    "- data from one array must be copied to another array element by element\n",
    "- must write your own function or code to achieve the deep copy\n",
    "- Couple of notes: \n",
    "    - destination array type must match the source array type\n",
    "    - destination array size must be at least as big as the source array size"
   ]
  },
  {
   "cell_type": "code",
   "execution_count": 32,
   "metadata": {},
   "outputs": [],
   "source": [
    "// let's copy some_array created above\n",
    "// let's create an empty array to deep copy data to\n",
    "int * deep_copy = new int[capacity];"
   ]
  },
  {
   "cell_type": "code",
   "execution_count": 33,
   "metadata": {},
   "outputs": [],
   "source": [
    "// let's deep copy \n",
    "for(int i=0; i<capacity; i++)\n",
    "    deep_copy[i] = some_array[i];"
   ]
  },
  {
   "cell_type": "code",
   "execution_count": 34,
   "metadata": {},
   "outputs": [
    {
     "data": {
      "text/plain": [
       "200"
      ]
     },
     "execution_count": 34,
     "metadata": {},
     "output_type": "execute_result"
    }
   ],
   "source": [
    "// if one array is modified it doesn't affect the other array\n",
    "deep_copy[0] *= 2; // update the first element with twice its value"
   ]
  },
  {
   "cell_type": "code",
   "execution_count": 35,
   "metadata": {},
   "outputs": [
    {
     "name": "stdout",
     "output_type": "stream",
     "text": [
      "0 -> 200 100\n",
      "1 -> -5 -5\n",
      "2 -> 15 15\n",
      "3 -> 20 20\n",
      "4 -> 30 30\n"
     ]
    }
   ],
   "source": [
    "// let's print the copied data side by side\n",
    "for(int i=0; i<capacity; i++) {\n",
    "    cout << i << \" -> \" << deep_copy[i] << \" \" << some_array[i] << endl;\n",
    "}"
   ]
  },
  {
   "cell_type": "code",
   "execution_count": 36,
   "metadata": {},
   "outputs": [
    {
     "data": {
      "text/plain": [
       "@0x7ffeecbba020"
      ]
     },
     "execution_count": 36,
     "metadata": {},
     "output_type": "execute_result"
    }
   ],
   "source": [
    "deep_copy"
   ]
  },
  {
   "cell_type": "markdown",
   "metadata": {},
   "source": [
    "## Passing array to function\n",
    "- arrays (both static and dynamic) can be passed to a function\n",
    "- array provides an efficient way to pass a large number of similar values without copying them\n",
    "    - pass-by reference is by default and the only way!\n",
    "    - arrays can't be passed by value"
   ]
  },
  {
   "cell_type": "code",
   "execution_count": 37,
   "metadata": {},
   "outputs": [],
   "source": [
    "// since actual size of the array is not easy to determine,\n",
    "// size of the array is typically passed as an argument\n",
    "void updateArray(int array[], int size) {\n",
    "    for(int i = 0; i<size; i++) {\n",
    "        array[i] *= 2; // simply double the value of each element\n",
    "    }\n",
    "}"
   ]
  },
  {
   "cell_type": "code",
   "execution_count": 38,
   "metadata": {},
   "outputs": [],
   "source": [
    "// print array function; notice passing pointer\n",
    "void printArray(int * array, int size) {\n",
    "    cout << \"{\";\n",
    "    for(int i=0; i<size; i++)\n",
    "        cout << array[i] << \", \";\n",
    "    cout << \"}\\n\";\n",
    "}"
   ]
  },
  {
   "cell_type": "code",
   "execution_count": 39,
   "metadata": {},
   "outputs": [
    {
     "name": "stdout",
     "output_type": "stream",
     "text": [
      "{100, -5, 15, 20, 30, 1685024095, 1600482421, }\n"
     ]
    }
   ],
   "source": [
    "printArray(some_array, arr_size);"
   ]
  },
  {
   "cell_type": "code",
   "execution_count": 40,
   "metadata": {},
   "outputs": [],
   "source": [
    "updateArray(some_array, arr_size);"
   ]
  },
  {
   "cell_type": "code",
   "execution_count": 41,
   "metadata": {},
   "outputs": [
    {
     "name": "stdout",
     "output_type": "stream",
     "text": [
      "{200, -10, 30, 40, 60, -924919106, -1094002454, }\n"
     ]
    }
   ],
   "source": [
    "printArray(some_array, arr_size);"
   ]
  },
  {
   "cell_type": "markdown",
   "metadata": {},
   "source": [
    "## Returning array from function\n",
    "- since aggregate assignment operator `=` is not allowed on array, returning a local static array is not possible\n",
    "- returning dynamic array is possbile but not the best practice!\n",
    "    - details as to why it's a bad practice is left for your own research and exploration\n",
    "    - Hint: it has to do with the ownership and memory management (deleting memory, etc.)\n",
    "    - quick demo of returning dynamic array can be visualized at [pythontutor.com](http://pythontutor.com/cpp.html#code=//%20returning%20dynamic%20array%20from%20a%20function%0A//%20not%20recommended%20best%20practice!%0A%23include%20%3Ciostream%3E%0Ausing%20namespace%20std%3B%0A%0Aint%20*%20getData%28%29%20%7B%0A%20%20int%20*%20nums%20%3D%20new%20int%5B2%5D%3B%0A%20%20nums%5B0%5D%20%3D%2010%3B%0A%20%20nums%5B1%5D%20%3D%2020%3B%0A%20%20return%20nums%3B%0A%7D%0A%0Aint%20main%28%29%20%7B%0A%20%20int%20*%20numsPtr%20%3D%20getData%28%29%3B%0A%20%20cout%20%3C%3C%20numsPtr%5B0%5D%20%3C%3C%20endl%3B%0A%20%20return%200%3B%0A%7D&curInstr=0&mode=display&origin=opt-frontend.js&py=cpp&rawInputLstJSON=%5B%5D)\n",
    "- best practice is to pass an empty array (pass-by reference) and get it filled inside the function\n",
    "    - a technique to get the data/result out of the function without explictly returing it from a function\n",
    " "
   ]
  },
  {
   "cell_type": "markdown",
   "metadata": {},
   "source": [
    "## C-string\n",
    "- C language doesn't have a type defiend to work with string like in C++\n",
    "- now that we understand pointer and C-array, let's revisit C-string\n",
    "- C-string is an array of characters that ends with a NULL character `'\\0'` (ASCII 0)\n",
    "- aggregate operations `cin` and `cout` are allowed on C-string\n",
    "    - `cin` leads to buffer overflow condition corrpupting memory\n",
    "        - the exploitation of the vulnerability compromises the conidentiality, integrity and availability of the program\n",
    "    - `cout` may print more than the buffer contents if not delimited with `'\\0'` \n",
    "        - the exploitation of the vulnerability compromises the confidentiality of the program"
   ]
  },
  {
   "cell_type": "code",
   "execution_count": 42,
   "metadata": {},
   "outputs": [],
   "source": [
    "// declaration and initialization is easier\n",
    "// NULL character is automatically added at the end!\n",
    "char name[] = \"John Smith\";"
   ]
  },
  {
   "cell_type": "code",
   "execution_count": 43,
   "metadata": {},
   "outputs": [],
   "source": [
    "char name[] = {'J', 'o', 'h', 'n'};"
   ]
  },
  {
   "cell_type": "code",
   "execution_count": 44,
   "metadata": {},
   "outputs": [
    {
     "name": "stdout",
     "output_type": "stream",
     "text": [
      "Hello John!"
     ]
    }
   ],
   "source": [
    "cout << \"Hello \" << name << \"!\";"
   ]
  },
  {
   "cell_type": "code",
   "execution_count": 45,
   "metadata": {},
   "outputs": [],
   "source": [
    "// once declared; working with C-string is a little cumbersome\n",
    "// you've to work one character at a time or use functions provided in <cstring> library\n",
    "char f_name[10];"
   ]
  },
  {
   "cell_type": "code",
   "execution_count": 46,
   "metadata": {},
   "outputs": [],
   "source": [
    "f_name[0] = 'M';\n",
    "f_name[1] = 'i';\n",
    "f_name[2] = 'c';\n",
    "f_name[3] = 'h'; \n",
    "f_name[4] = 'a';\n",
    "f_name[5] = 'e';\n",
    "f_name[6] = 'l';\n",
    "f_name[7] = '\\0';"
   ]
  },
  {
   "cell_type": "code",
   "execution_count": 47,
   "metadata": {},
   "outputs": [
    {
     "name": "stdout",
     "output_type": "stream",
     "text": [
      "Hello Michael!"
     ]
    }
   ],
   "source": [
    "// C-strings must end with null-character '\\0'\n",
    "cout << \"Hello \" << f_name << \"!\";"
   ]
  },
  {
   "cell_type": "code",
   "execution_count": 48,
   "metadata": {},
   "outputs": [
    {
     "data": {
      "text/plain": [
       "'n'"
      ]
     },
     "execution_count": 48,
     "metadata": {},
     "output_type": "execute_result"
    }
   ],
   "source": [
    "f_name[0] = 'J';\n",
    "f_name[1] = 'o';\n",
    "f_name[2] = 'h';\n",
    "f_name[3] = 'n'; \n",
    "// forgot to terminate f_name with NULL character \\0"
   ]
  },
  {
   "cell_type": "code",
   "execution_count": 49,
   "metadata": {},
   "outputs": [
    {
     "name": "stdout",
     "output_type": "stream",
     "text": [
      "Johnael"
     ]
    }
   ],
   "source": [
    "cout << f_name;"
   ]
  },
  {
   "cell_type": "markdown",
   "metadata": {},
   "source": [
    "## Library Functions to work with C-string\n",
    "- http://www.cplusplus.com/reference/cstring/"
   ]
  },
  {
   "cell_type": "markdown",
   "metadata": {},
   "source": [
    "## Array of strings\n",
    "- we can declare array of any type (fundamental and advanced)"
   ]
  },
  {
   "cell_type": "code",
   "execution_count": 50,
   "metadata": {},
   "outputs": [],
   "source": [
    "#include <iostream>\n",
    "#include <string>\n",
    "\n",
    "using namespace std;"
   ]
  },
  {
   "cell_type": "code",
   "execution_count": 51,
   "metadata": {},
   "outputs": [],
   "source": [
    "// array of C++ string\n",
    "string names[] = {\"John\", \"Jake\", \"Dave\", \"Jenny\"};"
   ]
  },
  {
   "cell_type": "code",
   "execution_count": 52,
   "metadata": {},
   "outputs": [
    {
     "name": "stdout",
     "output_type": "stream",
     "text": [
      "John first char = J"
     ]
    }
   ],
   "source": [
    "// first element and first character of first element\n",
    "cout << names[0] << \" first char = \" << names[0][0];"
   ]
  },
  {
   "cell_type": "markdown",
   "metadata": {},
   "source": [
    "## Array of char *\n",
    "- array of C-string (char *)\n",
    "- similar to array of C++ string conceptually; harder to work with however!\n",
    "- a parameter for **main( int argc, char\\* argv[] )** is always an array of `char*`"
   ]
  },
  {
   "cell_type": "code",
   "execution_count": 53,
   "metadata": {},
   "outputs": [],
   "source": [
    "// create array of char * that stores 4 C-strings\n",
    "char * stuff[4];"
   ]
  },
  {
   "cell_type": "code",
   "execution_count": 54,
   "metadata": {},
   "outputs": [],
   "source": [
    "char val1[] = \"ball\";"
   ]
  },
  {
   "cell_type": "code",
   "execution_count": 55,
   "metadata": {},
   "outputs": [],
   "source": [
    "char val2[] = \"test\";"
   ]
  },
  {
   "cell_type": "code",
   "execution_count": 59,
   "metadata": {},
   "outputs": [
    {
     "name": "stderr",
     "output_type": "stream",
     "text": [
      "\u001b[1minput_line_72:4:12: \u001b[0m\u001b[0;1;35mwarning: \u001b[0m\u001b[1mISO C++11 does not allow conversion from string literal to 'char *' [-Wwritable-strings]\u001b[0m\n",
      "stuff[2] = \"cat\"\n",
      "\u001b[0;1;32m           ^\n",
      "\u001b[0m\u001b[1minput_line_72:4:17: \u001b[0m\u001b[0;1;31merror: \u001b[0m\u001b[1mexpected ';' after expression\u001b[0m\n",
      "stuff[2] = \"cat\"\n",
      "\u001b[0;1;32m                ^\n",
      "\u001b[0m\u001b[0;32m                ;\n",
      "\u001b[0m\u001b[1minput_line_72:5:12: \u001b[0m\u001b[0;1;35mwarning: \u001b[0m\u001b[1mISO C++11 does not allow conversion from string literal to 'char *' [-Wwritable-strings]\u001b[0m\n",
      "stuff[3] = \"dog\";\n",
      "\u001b[0;1;32m           ^\n",
      "\u001b[0m"
     ]
    },
    {
     "ename": "Interpreter Error",
     "evalue": "",
     "output_type": "error",
     "traceback": [
      "Interpreter Error: "
     ]
    }
   ],
   "source": [
    "stuff[0] = val1;\n",
    "stuff[1] = val2;\n",
    "stuff[2] = \"cat\"\n",
    "stuff[3] = \"dog\";"
   ]
  },
  {
   "cell_type": "markdown",
   "metadata": {},
   "source": [
    "### Passing array of char * to function"
   ]
  },
  {
   "cell_type": "code",
   "execution_count": 60,
   "metadata": {},
   "outputs": [],
   "source": [
    "// write a function similar to main\n",
    "int my_main(int argc, char* argv[]) {\n",
    "    cout << \"argc = \" << argc << endl;\n",
    "    for(int i=0; i< argc; i++) {\n",
    "        cout << argv[i] << \" \" << endl;\n",
    "        if (string(argv[i]) == \"test\")\n",
    "            cout << \" test is found in argv[]\\n\";\n",
    "    }\n",
    "    return 0;\n",
    "}"
   ]
  },
  {
   "cell_type": "code",
   "execution_count": 61,
   "metadata": {},
   "outputs": [
    {
     "name": "stdout",
     "output_type": "stream",
     "text": [
      "argc = 4\n",
      "ball \n",
      "test \n",
      " test is found in argv[]\n",
      "cat \n",
      "dog \n"
     ]
    }
   ],
   "source": [
    "my_main(4, stuff);"
   ]
  },
  {
   "cell_type": "markdown",
   "metadata": {},
   "source": [
    "## Buffer Overflow\n",
    "- C-string is also called buffer\n",
    "- if C-string is not used correctly, it'll lead to buffer overflow security flaw\n",
    "- if data is copied to C-string buffer without checking the bounds, it may overflow!\n",
    "- one of the most dangerous security flaws that lets hackers completely control the vulnerable program and computer\n",
    "- in-depth study of buffer overflow and exploitation is beyond the scope of the course\n",
    "\n",
    "### Demo programs for buffer overflow \n",
    "- buffer overflow can be used to overwrite existing data or corrupt memory\n",
    "    - a simple overflow demo is found at [demos/arrays/buffer_overflow1/](demos/arrays/buffer_overflow1/)\n",
    "- buffer overflow can be used to change the flow of execution; read other part of memory\n",
    "    - a more intuitive demo is found here: [demos/arrays/buffer_overflow2/](demos/arrays/buffer_overflow2/)\n",
    "- buffer overflow can be exploited to execute arbitrary code\n",
    "    - for details see: [https://github.com/rambasnet/SoftwareSecurity](https://github.com/rambasnet/SoftwareSecurity)"
   ]
  },
  {
   "cell_type": "markdown",
   "metadata": {},
   "source": [
    "## Sorting data\n",
    "- sorting is a very important operation done to solve a large number of problems\n",
    "- all the data must be stored in memory in order to sort\n",
    "- e.g., sort students' records based on grades, ids, names, etc.\n",
    "- there are many algorithms to sort data\n",
    "    - one of the highly studied topics in algorithm courses\n",
    "- you should learn these algorithms and implement them to sort data\n",
    "    - typically studied in algorithm courses\n",
    "- an easy and efficent way to sort data is using library\n",
    "- `<algorithm>` header library has many commonly used algorithms implemented\n",
    "    - more: https://en.cppreference.com/w/cpp/header/algorithm\n",
    "- `sort(begin, end)` function sorts the data given a sequence that has `begin( )` and `end( )`\n",
    "    - by default it sorts data in ascending order\n",
    "    - can be customized to sort data in descending order"
   ]
  },
  {
   "cell_type": "code",
   "execution_count": 62,
   "metadata": {},
   "outputs": [],
   "source": [
    "// let's declare an array of float\n",
    "float stu_grades[] = {100, 99.6, 55, 100, 65, 15.5};"
   ]
  },
  {
   "cell_type": "code",
   "execution_count": 63,
   "metadata": {},
   "outputs": [],
   "source": [
    "#include <algorithm> // sort()\n",
    "#include <iterator> // begin() and end()\n",
    "#include <functional> //greater<>()"
   ]
  },
  {
   "cell_type": "code",
   "execution_count": 64,
   "metadata": {},
   "outputs": [],
   "source": [
    "// sort stu_grades in ascending order\n",
    "sort(begin(stu_grades), end(stu_grades));"
   ]
  },
  {
   "cell_type": "code",
   "execution_count": 65,
   "metadata": {},
   "outputs": [
    {
     "data": {
      "text/plain": [
       "{ 15.5000f, 55.0000f, 65.0000f, 99.6000f, 100.000f, 100.000f }"
      ]
     },
     "execution_count": 65,
     "metadata": {},
     "output_type": "execute_result"
    }
   ],
   "source": [
    "// now let's see the sorted values\n",
    "stu_grades"
   ]
  },
  {
   "cell_type": "code",
   "execution_count": 66,
   "metadata": {},
   "outputs": [],
   "source": [
    "// let's sort stu_grades in descending order\n",
    "// pass greater<type> function template that is used to compare the data\n",
    "// with greater value towards the beginning\n",
    "sort(begin(stu_grades), end(stu_grades), greater<float>());"
   ]
  },
  {
   "cell_type": "code",
   "execution_count": 67,
   "metadata": {},
   "outputs": [
    {
     "data": {
      "text/plain": [
       "{ 100.000f, 100.000f, 99.6000f, 65.0000f, 55.0000f, 15.5000f }"
      ]
     },
     "execution_count": 67,
     "metadata": {},
     "output_type": "execute_result"
    }
   ],
   "source": [
    "stu_grades"
   ]
  },
  {
   "cell_type": "code",
   "execution_count": 68,
   "metadata": {},
   "outputs": [],
   "source": [
    "// sort array of strings\n",
    "string words[] = {\"zebra\", \"yoyo\", \"x-ray\", \"ball\", \"apple\"};"
   ]
  },
  {
   "cell_type": "code",
   "execution_count": 69,
   "metadata": {},
   "outputs": [],
   "source": [
    "// sort in ascending order\n",
    "sort(begin(words), end(words));"
   ]
  },
  {
   "cell_type": "code",
   "execution_count": 70,
   "metadata": {},
   "outputs": [
    {
     "data": {
      "text/plain": [
       "{ \"apple\", \"ball\", \"x-ray\", \"yoyo\", \"zebra\" }"
      ]
     },
     "execution_count": 70,
     "metadata": {},
     "output_type": "execute_result"
    }
   ],
   "source": [
    "words"
   ]
  },
  {
   "cell_type": "markdown",
   "metadata": {},
   "source": [
    "## Bubble sort\n",
    "- bubble sort repeatedly compares and swaps two adjacent elements if they're not in order\n",
    "- see animation here: https://en.wikipedia.org/wiki/Bubble_sort\n",
    "- step through the algorithm here: https://opendsa-server.cs.vt.edu/ODSA/Books/CS3/html/BubbleSort.html#id1\n",
    "- one of the worst performing algorithms; but used to demonstrate a quick and easy way to write your own sort algorithm for a small number of elements\n",
    "    - because of its poor performance, bubble sort should not be used in real-world applications\n",
    "    "
   ]
  },
  {
   "cell_type": "code",
   "execution_count": 71,
   "metadata": {},
   "outputs": [],
   "source": [
    "#include <iostream>\n",
    "#include <string>\n",
    "\n",
    "using namespace std;"
   ]
  },
  {
   "cell_type": "code",
   "execution_count": 72,
   "metadata": {},
   "outputs": [],
   "source": [
    "template<class T>\n",
    "void printArray(T * arr, int size) {\n",
    "    cout << \"{\";\n",
    "    for(int i=0; i<size; i++)\n",
    "        cout << arr[i] << \", \";\n",
    "    cout << \"}\\n\";\n",
    "}"
   ]
  },
  {
   "cell_type": "code",
   "execution_count": 73,
   "metadata": {},
   "outputs": [],
   "source": [
    "template<class T>\n",
    "void bubbleSort(T * array, int size) {\n",
    "    bool swapped;\n",
    "    for(int pass=0; pass<size; pass++) {\n",
    "        swapped = false;\n",
    "        // let's print array before every pass\n",
    "        // TODO: comment out the following debugging info...\n",
    "        //cout << \"pass # \" << pass << \": \";\n",
    "        //printArray<T>(array, size);\n",
    "        for(int i=0; i<size-1-pass; i++) {\n",
    "            // sort in ascending order; check out of order?\n",
    "            if (array[i] > array[i+1]) {\n",
    "                swap(array[i], array[i+1]);\n",
    "                swapped = true;\n",
    "            }\n",
    "        }\n",
    "        // check if the elements are sorted; i.e. not single pair was swapped\n",
    "        // let's print array after each pass; uncomment the following statement\n",
    "        //printArray<T>(array, size);\n",
    "        if (!swapped)\n",
    "            break;\n",
    "    }\n",
    "}"
   ]
  },
  {
   "cell_type": "code",
   "execution_count": 74,
   "metadata": {},
   "outputs": [],
   "source": [
    "int numbers[] = {100, 99, 55, 100, 65, 15};"
   ]
  },
  {
   "cell_type": "code",
   "execution_count": 75,
   "metadata": {},
   "outputs": [],
   "source": [
    "bubbleSort<int>(numbers, 6);"
   ]
  },
  {
   "cell_type": "code",
   "execution_count": 76,
   "metadata": {},
   "outputs": [
    {
     "data": {
      "text/plain": [
       "{ 15, 55, 65, 99, 100, 100 }"
      ]
     },
     "execution_count": 76,
     "metadata": {},
     "output_type": "execute_result"
    }
   ],
   "source": [
    "numbers"
   ]
  },
  {
   "cell_type": "code",
   "execution_count": 77,
   "metadata": {},
   "outputs": [],
   "source": [
    "float values[] = {7.9, 3.5, 5.5, 6.5, 7.5, 7.6};"
   ]
  },
  {
   "cell_type": "code",
   "execution_count": 78,
   "metadata": {},
   "outputs": [],
   "source": [
    "bubbleSort<float>(values, 6);"
   ]
  },
  {
   "cell_type": "code",
   "execution_count": 79,
   "metadata": {},
   "outputs": [
    {
     "data": {
      "text/plain": [
       "{ 3.50000f, 5.50000f, 6.50000f, 7.50000f, 7.60000f, 7.90000f }"
      ]
     },
     "execution_count": 79,
     "metadata": {},
     "output_type": "execute_result"
    }
   ],
   "source": [
    "values"
   ]
  },
  {
   "cell_type": "markdown",
   "metadata": {},
   "source": [
    "## Two-dimensional array\n",
    "- two dimensional array is a useful construct to store data of 2-D in nature\n",
    "    - table with row and column (representing 2-d board games), cartesian coordinates, etc.\n",
    "- storing 3-D and beyond is also possible\n",
    "    - 3-D array is used in video games to store graphics information\n",
    "    \n",
    "- syntax to declare 2-D array:\n",
    "\n",
    "```cpp\n",
    "type arrayName[rowSize][colSize];\n",
    "```\n",
    "\n",
    "- 2-D array can be both static and dynamic\n",
    "\n",
    "### Tic-tac-toe game application\n",
    "- represent 2-D tic-tac-toe board\n",
    "\n",
    "![](resources/tic-tac-toe.png)"
   ]
  },
  {
   "cell_type": "code",
   "execution_count": 80,
   "metadata": {},
   "outputs": [],
   "source": [
    "#include <iostream>\n",
    "#include <iomanip>\n",
    "#include <string>\n",
    "\n",
    "using namespace std;"
   ]
  },
  {
   "cell_type": "code",
   "execution_count": 81,
   "metadata": {},
   "outputs": [],
   "source": [
    "// declare a 2-d tic-tac board;\n",
    "// tic_tac_toe[0][0] represents top left box\n",
    "char tic_tac_toe[3][3];"
   ]
  },
  {
   "cell_type": "code",
   "execution_count": 82,
   "metadata": {},
   "outputs": [],
   "source": [
    "// define a function to initialize empty tic_tac_toe board\n",
    "// Note: must provide the column_width inside []\n",
    "void initTicTacToe(char board[][3], int row) {\n",
    "    for(int i=0; i<row; i++)\n",
    "        for(int j=0; j<3; j++)\n",
    "            board[i][j] = ' '; // space represents empty box\n",
    "}"
   ]
  },
  {
   "cell_type": "code",
   "execution_count": 83,
   "metadata": {},
   "outputs": [],
   "source": [
    "void printTicTacToe(char board[][3], int row) {\n",
    "    cout << endl << setfill('-') << setw(14) << \" \" << endl;\n",
    "    for(int i=0; i<row; i++) {\n",
    "        cout << \"| \";\n",
    "        for(int j=0; j<3; j++)\n",
    "            cout << tic_tac_toe[i][j] << \" | \";\n",
    "        cout << endl << setfill('-') << setw(14) << \" \" << endl;\n",
    "    }\n",
    "}"
   ]
  },
  {
   "cell_type": "code",
   "execution_count": 84,
   "metadata": {},
   "outputs": [],
   "source": [
    "// let's initialize our board\n",
    "initTicTacToe(tic_tac_toe, 3);"
   ]
  },
  {
   "cell_type": "code",
   "execution_count": 85,
   "metadata": {},
   "outputs": [
    {
     "name": "stdout",
     "output_type": "stream",
     "text": [
      "\n",
      "------------- \n",
      "|   |   |   | \n",
      "------------- \n",
      "|   |   |   | \n",
      "------------- \n",
      "|   |   |   | \n",
      "------------- \n"
     ]
    }
   ],
   "source": [
    "// let's print the empty board\n",
    "printTicTacToe(tic_tac_toe, 3);"
   ]
  },
  {
   "cell_type": "code",
   "execution_count": 86,
   "metadata": {},
   "outputs": [],
   "source": [
    "// let's fill Xs and Os as shown in the above figure\n",
    "// assuming a game play\n",
    "tic_tac_toe[0][0] = 'X';\n",
    "tic_tac_toe[0][2] = 'O';\n",
    "tic_tac_toe[1][0] = 'O';\n",
    "tic_tac_toe[1][1] = 'X';\n",
    "tic_tac_toe[2][0] = 'O';\n",
    "tic_tac_toe[2][2] = 'X';"
   ]
  },
  {
   "cell_type": "code",
   "execution_count": 87,
   "metadata": {},
   "outputs": [
    {
     "name": "stdout",
     "output_type": "stream",
     "text": [
      "\n",
      "------------- \n",
      "| X |   | O | \n",
      "------------- \n",
      "| O | X |   | \n",
      "------------- \n",
      "| O |   | X | \n",
      "------------- \n"
     ]
    }
   ],
   "source": [
    "printTicTacToe(tic_tac_toe, 3);"
   ]
  },
  {
   "cell_type": "code",
   "execution_count": 88,
   "metadata": {},
   "outputs": [],
   "source": [
    "// let's determine winner!\n",
    "char findWinner(char board[][3], int row) {\n",
    "    char winner; // is it O or X?\n",
    "    bool won;\n",
    "    // check 3 rows\n",
    "    for(int i=0; i<row; i++) {\n",
    "        winner = board[i][0]; // whatever symbol is at the first box, that should appear in other columns\n",
    "        won = true;\n",
    "        // check the rest of the columns\n",
    "        for(int j=1; j<3; j++) {\n",
    "            if (winner != board[i][j]) {\n",
    "                won = false;\n",
    "                break;\n",
    "            }\n",
    "        }\n",
    "        if (won) // we've a winner\n",
    "            return winner;\n",
    "    }\n",
    "    // #FIXME: check columns FIXME#\n",
    "    // check diagonals \n",
    "    // top left to bottom right\n",
    "    if (board[0][0] == board[1][1] && board[1][1] == board[2][2]) return board[0][0];\n",
    "    // #FIXME: check the other diagonal \n",
    "    \n",
    "    return '-'; // return '-' if it's a tie\n",
    "}"
   ]
  },
  {
   "cell_type": "code",
   "execution_count": 89,
   "metadata": {},
   "outputs": [],
   "source": [
    "char winner;"
   ]
  },
  {
   "cell_type": "code",
   "execution_count": 90,
   "metadata": {},
   "outputs": [],
   "source": [
    "winner = findWinner(tic_tac_toe, 3);"
   ]
  },
  {
   "cell_type": "code",
   "execution_count": 91,
   "metadata": {},
   "outputs": [
    {
     "name": "stdout",
     "output_type": "stream",
     "text": [
      "Congrats X! You win!!\n"
     ]
    }
   ],
   "source": [
    "if (winner == '-')\n",
    "    cout << \"Oops! it's a tie...\\n\";\n",
    "else\n",
    "    cout << \"Congrats \" << winner << \"! You win!!\\n\";"
   ]
  },
  {
   "cell_type": "markdown",
   "metadata": {},
   "source": [
    "## Labs\n",
    "\n",
    "1. The following lab demonstrates the usage of an array data structure and some operations on arrays.\n",
    "    - use partial solution `array.cpp` in [labs/arrays](./labs/arrays) folder\n",
    "    - use Makefile to compile and debug program\n",
    "    - fixe all the FIXMEs and write #FIXED# next to each FIXME once fixed"
   ]
  },
  {
   "cell_type": "markdown",
   "metadata": {},
   "source": [
    "## Exercises\n",
    "1. Write a function that takes an array and finds and returns the max value in the array.\n",
    "    - write at least 3 automated test cases\n"
   ]
  },
  {
   "cell_type": "code",
   "execution_count": 92,
   "metadata": {},
   "outputs": [],
   "source": [
    "#include <cassert>"
   ]
  },
  {
   "cell_type": "code",
   "execution_count": 93,
   "metadata": {},
   "outputs": [],
   "source": [
    "template<class T>\n",
    "T max(T * array, int size) {\n",
    "    assert(size >= 1); // make sure array is not empty!\n",
    "    T curr_max = array[0];\n",
    "    for(int i=1; i<size; i++) {\n",
    "        // if the value at i is larger than curr_max; update it with the new max\n",
    "        if (curr_max < array[i])\n",
    "            curr_max = array[i];\n",
    "    }\n",
    "    return curr_max;\n",
    "}"
   ]
  },
  {
   "cell_type": "code",
   "execution_count": 94,
   "metadata": {},
   "outputs": [],
   "source": [
    "void test_max() {\n",
    "    assert(max({1, 2, 3} == 3));\n",
    "    assert(max({10, -5, -30} == 10));\n",
    "    assert(max({-10, -5, -30, 0, -100} == 0));\n",
    "    cerr << \"all test cases passed for max()\\n\";\n",
    "}"
   ]
  },
  {
   "cell_type": "code",
   "execution_count": 95,
   "metadata": {},
   "outputs": [
    {
     "name": "stderr",
     "output_type": "stream",
     "text": [
      "all test cases passed for max()\n"
     ]
    }
   ],
   "source": [
    "test_max();"
   ]
  },
  {
   "cell_type": "markdown",
   "metadata": {},
   "source": [
    "2. Write a function that takes an array and finds and returns the min value in the array.\n",
    "    - write at least 3 automated test cases\n",
    "    \n",
    "    \n",
    "3. Write a complete C++ program that computes some statistical values on any given number of numbers\n",
    "    - prompt user to enter a bunch of numbers\n",
    "    - find and display the max and min values\n",
    "    - find and display the average or mean\n",
    "    - find and print the range (max - min) in the array\n",
    "    - find and display the mode or modal (the number with largest frequency)\n",
    "    - program continues to run until the user wants to quit\n",
    "    \n",
    "    \n",
    "4. Write a search function that checks if a given value is found in an array.\n",
    "    - write 3 automated test cases"
   ]
  },
  {
   "cell_type": "markdown",
   "metadata": {},
   "source": [
    "## Kattis problems\n",
    "- a large number of difficult problems require to store data in 1 or 2-d arrays and manipulate the data\n",
    "- solve the following Kattis problems writing at least 3 automated test cases for each function used as part of the solution\n",
    "\n",
    "\n",
    "1. Falling Apart - https://open.kattis.com/problems/fallingapart\n",
    "2. Statistics - https://open.kattis.com/problems/statistics\n",
    "3. Line Them Up - https://open.kattis.com/problems/lineup\n",
    "4. No Thanks! - https://open.kattis.com/problems/nothanks\n",
    "5. Connect-N - https://open.kattis.com/problems/connectn\n",
    "    - Hint: 2-D Array - simply check 4 winning ways from each B or R char - just like in tic-tac-toe"
   ]
  },
  {
   "cell_type": "markdown",
   "metadata": {},
   "source": [
    "## Summary\n",
    "- learned about array and types of arrays\n",
    "- passing array to functions\n",
    "- similarity between array and pointers in terms of using memory addressses\n",
    "- methods or member functions or lack there of\n",
    "- array of C++ strings and C-strings\n",
    "- went over a quick intro to buffer overflow security vulnerability\n",
    "- sorting using &lt;algorithm&gt; and writing our own bubble sort\n",
    "- 2-d array and it's application on tic-tac-toe game"
   ]
  },
  {
   "cell_type": "code",
   "execution_count": null,
   "metadata": {},
   "outputs": [],
   "source": []
  }
 ],
 "metadata": {
  "kernelspec": {
   "display_name": "C++14",
   "language": "C++14",
   "name": "xcpp14"
  },
  "language_info": {
   "codemirror_mode": "text/x-c++src",
   "file_extension": ".cpp",
   "mimetype": "text/x-c++src",
   "name": "c++",
   "version": "14"
  }
 },
 "nbformat": 4,
 "nbformat_minor": 4
}
