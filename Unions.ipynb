{
 "cells": [
  {
   "cell_type": "markdown",
   "id": "43a8a76d-41c5-47ec-abe8-54a1552e26f1",
   "metadata": {},
   "source": [
    "# Unions\n",
    "\n",
    "## Topics\n",
    "\n",
    "- Union type definition\n",
    "- Defining and using union type\n",
    "- Demonstration of how union type works\n",
    "\n",
    "## Union\n",
    "\n",
    "- a union type is burrowed from C\n",
    "- it's a user-defined type that allows you to store different data types in the same memory location\n",
    "- union is usually defined with many members similar to structure, but only one member will be active and valid at a time\n",
    "- it's an efficient way of using the same memory location for multiple purpose or different data types\n",
    "    - only primitive types (C-types, char, int, float, double, etc.) are allowed\n",
    "    - user-defined compound types such as string, structs are not allowed as a member\n",
    "- see CPP reference for more: [https://en.cppreference.com/w/cpp/language/union](https://en.cppreference.com/w/cpp/language/union)\n",
    "- syntax to define **union** type:\n",
    "\n",
    "\n",
    "```cpp\n",
    "union UnionName {\n",
    "    type1 memberName1;\n",
    "    type2 memberName2;\n",
    "    ...\n",
    "    typeN memberNameN;\n",
    "};\n",
    "```\n",
    "- defining and using union type is syntatcially similar to `struct` type\n",
    "- member is accessed using `.` member access operator\n",
    "\n",
    "```\n",
    "UnionName object;\n",
    "object.memberName = [value];\n",
    "```\n",
    "\n",
    "### Visualize it in [Pythontutor.com](https://pythontutor.com/visualize.html#code=%23include%20%3Cstdio.h%3E%0A%23include%20%3Cstring.h%3E%0A%20%0A//%20Define%20Union%20type%0Aunion%20Data%20%7B%0A%20%20char%20ch%3B%0A%20%20int%20ID%3B%0A%20%20float%20price%3B%0A%20%20char%20fullName%5B100%5D%3B%0A%7D%3B%0A%0Aint%20main%28%20%29%20%7B%0A%0A%20%20Data%20data%3B%20%20%20%20%20%20%20%20%0A%20%20%0A%20%20printf%28%22sizeof%20data%3A%20%25d%5Cn%22,%20sizeof%28data%29%29%3B%0A%20%20data.ch%20%3D%20'A'%3B%0A%20%20data.ID%20%3D%20100%3B%0A%20%20data.price%20%3D%209.99%3B%0A%20%20strncpy%28data.fullName,%20%22John%20Smith%22,%2010%29%3B%0A%0A%20%20printf%28%22data.ch%3A%20%25c%5Cn%22,%20data.ch%29%3B%0A%20%20printf%28%22data.ID%20%3A%20%25d%5Cn%22,%20data.ID%29%3B%0A%20%20printf%28%22data.price%20%3A%20%25f%5Cn%22,%20data.price%29%3B%0A%20%20printf%28%22data.fullName%20%3A%20%25s%5Cn%22,%20data.fullName%29%3B%0A%0A%20%20return%200%3B%0A%7D&cumulative=false&curInstr=0&heapPrimitives=nevernest&mode=display&origin=opt-frontend.js&py=cpp_g%2B%2B9.3.0&rawInputLstJSON=%5B%5D&textReferences=false)"
   ]
  },
  {
   "cell_type": "code",
   "execution_count": 1,
   "id": "b2da31cd-fe9d-4a5b-be06-adac644bb96a",
   "metadata": {},
   "outputs": [],
   "source": [
    "#include <iostream>\n",
    "#include <cstring>\n",
    "\n",
    "using namespace std;"
   ]
  },
  {
   "cell_type": "code",
   "execution_count": 2,
   "id": "f0edf411-12fd-4f16-8d26-9e1a70ed025a",
   "metadata": {},
   "outputs": [],
   "source": [
    "// Define Union type\n",
    "union Data {\n",
    "  char ch;\n",
    "  int ID;\n",
    "  float price;\n",
    "  char fullName[100];\n",
    "};"
   ]
  },
  {
   "cell_type": "code",
   "execution_count": 3,
   "id": "5743c64d-8cbf-4ae6-9e50-c57493fc7c04",
   "metadata": {},
   "outputs": [],
   "source": [
    "// declare objects\n",
    "union Data data;"
   ]
  },
  {
   "cell_type": "code",
   "execution_count": 4,
   "id": "9256355a-3fd8-49df-b361-857208a7b398",
   "metadata": {},
   "outputs": [
    {
     "data": {
      "text/plain": [
       "100"
      ]
     },
     "execution_count": 4,
     "metadata": {},
     "output_type": "execute_result"
    }
   ],
   "source": [
    "sizeof(data)\n",
    "// size of data object is the size of the largest memember variable"
   ]
  },
  {
   "cell_type": "code",
   "execution_count": 5,
   "id": "3e02bfed-755a-4d44-8ab0-f1e94da1c6d9",
   "metadata": {},
   "outputs": [
    {
     "data": {
      "text/plain": [
       "'A'"
      ]
     },
     "execution_count": 5,
     "metadata": {},
     "output_type": "execute_result"
    }
   ],
   "source": [
    "// only one member is active at a time\n",
    "data.ch = 'A'"
   ]
  },
  {
   "cell_type": "code",
   "execution_count": 6,
   "id": "091d50cd-db5c-4c86-b86c-b73010dcafd0",
   "metadata": {},
   "outputs": [
    {
     "name": "stdout",
     "output_type": "stream",
     "text": [
      "A\n"
     ]
    }
   ],
   "source": [
    "// ch member is active\n",
    "cout << data.ch << endl;"
   ]
  },
  {
   "cell_type": "code",
   "execution_count": 7,
   "id": "670b81a0-67ae-45f9-8035-3cebc5d34f51",
   "metadata": {},
   "outputs": [],
   "source": [
    "data.ID = 100;"
   ]
  },
  {
   "cell_type": "code",
   "execution_count": 8,
   "id": "4c00afee-9f38-4c23-b005-da70eae6c27b",
   "metadata": {},
   "outputs": [
    {
     "name": "stdout",
     "output_type": "stream",
     "text": [
      "100\n"
     ]
    }
   ],
   "source": [
    "// ID member is active\n",
    "cout << data.ID << endl;"
   ]
  },
  {
   "cell_type": "code",
   "execution_count": 9,
   "id": "5e2077e9-8b9f-40cb-9162-b1109b1cbfe2",
   "metadata": {},
   "outputs": [
    {
     "name": "stdout",
     "output_type": "stream",
     "text": [
      "d"
     ]
    }
   ],
   "source": [
    "// ch is now not valid\n",
    "cout << data.ch;"
   ]
  },
  {
   "cell_type": "code",
   "execution_count": 10,
   "id": "e790d9d1-0429-46ae-973e-0c1ad0abfd55",
   "metadata": {},
   "outputs": [],
   "source": [
    "// price member is active\n",
    "data.price = 9.99;"
   ]
  },
  {
   "cell_type": "code",
   "execution_count": 11,
   "id": "863f3073-2bcc-405b-b966-321505900e9a",
   "metadata": {},
   "outputs": [
    {
     "name": "stdout",
     "output_type": "stream",
     "text": [
      "9.99"
     ]
    }
   ],
   "source": [
    "cout << data.price;"
   ]
  },
  {
   "cell_type": "code",
   "execution_count": 12,
   "id": "ec3ad9ed-0ca0-4402-8a01-fa01ebd4ba35",
   "metadata": {},
   "outputs": [
    {
     "name": "stdout",
     "output_type": "stream",
     "text": [
      "\n",
      " 1092605706"
     ]
    }
   ],
   "source": [
    "// both ch and ID not active and valid\n",
    "cout << data.ch << \" \" << data.ID;"
   ]
  },
  {
   "cell_type": "code",
   "execution_count": 13,
   "id": "e27f14c5-1a41-4025-976a-c1040a8f9d60",
   "metadata": {},
   "outputs": [],
   "source": [
    "// data.fullName is now active\n",
    "strncpy(data.fullName, \"John Smith\", 10);"
   ]
  },
  {
   "cell_type": "code",
   "execution_count": 14,
   "id": "cd5aac08-6f0c-48c9-8f7d-063e97af7ce1",
   "metadata": {},
   "outputs": [
    {
     "name": "stdout",
     "output_type": "stream",
     "text": [
      "John Smith"
     ]
    }
   ],
   "source": [
    "cout << data.fullName;"
   ]
  },
  {
   "cell_type": "code",
   "execution_count": 15,
   "id": "1a932d72-1019-44d9-8733-c0060ca5acc5",
   "metadata": {},
   "outputs": [
    {
     "name": "stdout",
     "output_type": "stream",
     "text": [
      "J 1852337994 1.79838e+28"
     ]
    }
   ],
   "source": [
    "// all other 3 members are not active and valid\n",
    "cout << data.ch << \" \" << data.ID << \" \" << data.price;"
   ]
  },
  {
   "cell_type": "markdown",
   "id": "c94d29c3-0b4e-41ca-8d73-60850dffaa96",
   "metadata": {},
   "source": [
    "## Applications\n",
    "\n",
    "- union has limited and very specific application in real world\n",
    "- could be used to save memory in network applications for serializing and deserializing data, etc.\n",
    "\n",
    "## Kattis problems\n",
    "\n",
    "- union is not a strict requirement to solve Kattis problems\n",
    "\n",
    "## Summary\n",
    "\n",
    "- learnd what union types are\n",
    "- learned how to define and use union types"
   ]
  },
  {
   "cell_type": "code",
   "execution_count": null,
   "id": "fe1112c3-b935-428e-be91-538a840c0a18",
   "metadata": {},
   "outputs": [],
   "source": []
  }
 ],
 "metadata": {
  "kernelspec": {
   "display_name": "C++14",
   "language": "C++14",
   "name": "xcpp14"
  },
  "language_info": {
   "codemirror_mode": "text/x-c++src",
   "file_extension": ".cpp",
   "mimetype": "text/x-c++src",
   "name": "c++",
   "version": "14"
  }
 },
 "nbformat": 4,
 "nbformat_minor": 5
}
