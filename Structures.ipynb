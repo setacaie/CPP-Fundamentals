{
 "cells": [
  {
   "cell_type": "markdown",
   "metadata": {},
   "source": [
    "# Structures\n",
    "\n",
    "## Topics\n",
    "- compound and heterogeneous types\n",
    "- structrues and records types\n",
    "- examples of structures and objects\n",
    "- aggregate operations on objects\n",
    "- passing structure to and and returing from functions\n",
    "- array of structures\n",
    "- structures in another structures"
   ]
  },
  {
   "cell_type": "markdown",
   "metadata": {},
   "source": [
    "## Compound and heterogeneous types\n",
    "- most of the data types we've worked with so far represent a single value\n",
    "    - an interger, floating-point value, char, etc.\n",
    "- we've also worked with array of similar values such as string, array of integers or array of strings\n",
    "- array, vector and string can be considered as compound types but all elements are **homogeneous (same) type**\n",
    "- C++ possibly can't provide all the types of data that programs need to efficiently represent and handle\n",
    "- e.g. Complex numbers, Points in coordinates, various records (student records, police records, etc.)\n",
    "- a large number of these types are compound but mixture of **heteregenous (mixed) types**\n",
    "    - e.g. student records may have integer for ID, string for names and addresses, float for GPA and grades, etc.\n",
    "- the following figure shows some sample student records that a program may have to represent:\n",
    "\n",
    "![](resources/records.png)\n",
    "\n",
    "- two records displayed in the figure have the same heteregeneous structure\n",
    "    - we can represent these records and store them in memory using array of structure\n",
    "- via **struct** and **class** constructs, C++ allows us to create any type of heteregeneous data records that we want to represent\n",
    "- we do not include any library to use **struct** and **class** keywords\n",
    "- **class** is a big topic typically covered in **Data Structures** and **Object Oriented Programming** courses\n",
    "   \n",
    "## Structures\n",
    "- structrues are user-defined, compound and typically heterogenous types\n",
    "- the following figure demonstrates student record represented using structure\n",
    "<img src=\"resources/record.png\" width=\"25%\">\n",
    "- allows us to organize many different types of data under ONE compound type\n",
    "- each type of data is represented by its own name and is called a member of the structure\n",
    "- makes it easier to manipulate and move the data records around in a program using a single object/variable\n",
    "- using structures is a three-step process:\n",
    "    1. define the new structure type\n",
    "    2. declare objects using the new structrue type\n",
    "    3. access members to store, update and read data\n",
    "- keyword **struct** short for structure is used to define structure type   \n",
    "- syntax to define structure:\n",
    "```cpp\n",
    "struct structureName {\n",
    "    type1 memberName1;\n",
    "    type2 memberName2;\n",
    "    type3 memberName3;\n",
    "    type4 memberName4;\n",
    "    //...\n",
    "};\n",
    "```\n",
    "- note the required semi-colon `;` after closing curley brace\n",
    "- when defining struct, we don't initialize members; they are merely the blueprint (template) not actual variables\n",
    "\n",
    "- syntax to declare objects of struct type:\n",
    "\n",
    "```cpp\n",
    "structureName objectName;\n",
    "```\n",
    "\n",
    "- exactly like declaring simple variables\n",
    "- this step actually allocates all the memory required to store one record for some instance objectName\n",
    "- the process of creating objects from `struct type` is called **instantiation**\n",
    "- compound variables that could hold more than 1 values are typically called **objects**\n",
    "\n",
    "- syntax to access members:\n",
    "\n",
    "```cpp\n",
    "objectName.memberName\n",
    "```\n",
    "- each member is used like a single variable; only difference is the way they're accessed\n",
    "- member can be accessed only by its instance (object) name"
   ]
  },
  {
   "cell_type": "markdown",
   "metadata": {},
   "source": [
    "## Define structure type to represent student records\n",
    "- representing the student record displayed in the figure above\n",
    "- TBD in class"
   ]
  },
  {
   "cell_type": "markdown",
   "metadata": {},
   "source": [
    "## Declare objects to store students' records\n",
    "- TBD in class\n",
    "- declare and initialize using uniform initialization"
   ]
  },
  {
   "cell_type": "markdown",
   "metadata": {},
   "source": [
    "## Access members of students' objects/records\n",
    "- TBD in class"
   ]
  },
  {
   "cell_type": "markdown",
   "metadata": {},
   "source": [
    "## Point structure definition\n",
    "- a point in Cartesian coordinate (2-D geometry) is two numbers called coordinates\n",
    "- there may be a large number of points on the plain, but each point is treated collectively as a single object\n",
    "- e.g.(0, 0) indicates the origin, and $(x, y)$ indicates the point $x$ units from $x$-axis and $y$ units from the $y$-axis\n",
    "\n",
    "![](resources/Cartesian-coordinates.png)\n",
    "\n",
    "- how can we represent 2-D points in C++?\n",
    "    - we can use structure!"
   ]
  },
  {
   "cell_type": "code",
   "execution_count": 1,
   "metadata": {},
   "outputs": [],
   "source": [
    "#include <iostream>\n",
    "#include <string>\n",
    "#include <cmath>\n",
    "\n",
    "using namespace std;"
   ]
  },
  {
   "cell_type": "code",
   "execution_count": 2,
   "metadata": {},
   "outputs": [],
   "source": [
    "// define a point structure\n",
    "struct Point {\n",
    "    // can be declared as int x, y;\n",
    "    int x; // member 1\n",
    "    int y; // member 2\n",
    "    // any other member?\n",
    "    // parenthesis are common on all points and used only for representation\n",
    "    // we don't need members for parenthesis\n",
    "};\n",
    "// do not initialize members as the memory is not allocated just yet!"
   ]
  },
  {
   "cell_type": "markdown",
   "metadata": {},
   "source": [
    "## Point objects\n",
    "- recall Point structure is just the definition and doesn't actually store data\n",
    "- need to declare Point objects to actaully store the data values (coordinates)\n",
    "- we can also declare pointers to struct types\n",
    "- syntax to declare struct objects and pointers is similar to declaring variables\n",
    "    - afterall, struct is a user-defined type\n",
    "    \n",
    "```cpp\n",
    "structName objectName;\n",
    "```\n",
    "- objects created are automatic or stored in stack memory segment"
   ]
  },
  {
   "cell_type": "code",
   "execution_count": 3,
   "metadata": {},
   "outputs": [],
   "source": [
    "// declare/instantiate some point objects\n",
    "Point pt1, pt2;"
   ]
  },
  {
   "cell_type": "code",
   "execution_count": 4,
   "metadata": {},
   "outputs": [],
   "source": [
    "// declare and initialize point objects\n",
    "// using uniform initialization\n",
    "// members are initialized in the order they're defined\n",
    "Point origin = {0, 0};"
   ]
  },
  {
   "cell_type": "code",
   "execution_count": 5,
   "metadata": {},
   "outputs": [],
   "source": [
    "// explictly casting two values as Point type\n",
    "pt1 = Point({2, 3});"
   ]
  },
  {
   "cell_type": "code",
   "execution_count": 6,
   "metadata": {},
   "outputs": [],
   "source": [
    "// implicit coersion of two values as a Point type\n",
    "pt2 = {3, 0};"
   ]
  },
  {
   "cell_type": "code",
   "execution_count": 7,
   "metadata": {},
   "outputs": [],
   "source": [
    "// declared a pointer of Point type and initialize with nullptr\n",
    "Point * pt_ptr = nullptr;"
   ]
  },
  {
   "cell_type": "code",
   "execution_count": 8,
   "metadata": {},
   "outputs": [],
   "source": [
    "// assign value/address to pt_ptr\n",
    "// recall, pointers store memory addressess only!\n",
    "pt_ptr = &pt1;"
   ]
  },
  {
   "cell_type": "code",
   "execution_count": 9,
   "metadata": {},
   "outputs": [
    {
     "name": "stdout",
     "output_type": "stream",
     "text": [
      "0x10f5422d8 == 0x10f5422d8\n"
     ]
    }
   ],
   "source": [
    "// two addresses must be equal!\n",
    "cout << pt_ptr << \" == \" << &pt1 << endl;"
   ]
  },
  {
   "cell_type": "markdown",
   "metadata": {},
   "source": [
    "## Dynamic objects\n",
    "- memory needed for any struct objects can be allocated in heap memory segment\n",
    "- the syntax to allocate dynamic objects:\n",
    "\n",
    "```cpp\n",
    "structName * ptrName = new structName();\n",
    "```\n",
    "\n",
    "- the syntax is same as declaring dynamic variables covered in **Pointers** chapter"
   ]
  },
  {
   "cell_type": "code",
   "execution_count": 10,
   "metadata": {},
   "outputs": [],
   "source": [
    "// instantiate a pointer object\n",
    "Point * pt_ptr1 = new Point;"
   ]
  },
  {
   "cell_type": "code",
   "execution_count": 11,
   "metadata": {},
   "outputs": [],
   "source": [
    "// instantiate and initialize a pointer object\n",
    "Point * pt_ptr2 = new Point({100, -200});"
   ]
  },
  {
   "cell_type": "markdown",
   "metadata": {},
   "source": [
    "## Point members\n",
    "- each member of Point object can be accessed using `.` member access operator\n",
    "- syntax:\n",
    "\n",
    "```cpp\n",
    "object.member;\n",
    "ptrObject->member;\n",
    "```\n",
    "\n",
    "- members are same as variables that allow us to store and access data\n",
    "- if a pointer object is used, `->` arrow/pointer operator is used to access member"
   ]
  },
  {
   "cell_type": "code",
   "execution_count": 12,
   "metadata": {},
   "outputs": [
    {
     "name": "stdout",
     "output_type": "stream",
     "text": [
      "origin = (0,0)\n"
     ]
    }
   ],
   "source": [
    "// access members using . (member access) operator\n",
    "cout << \"origin = (\" << origin.x << \",\" << origin.y << \")\" << endl;"
   ]
  },
  {
   "cell_type": "code",
   "execution_count": 13,
   "metadata": {},
   "outputs": [],
   "source": [
    "// assgin values to pt1 and pt2;\n",
    "pt1.x = -3;\n",
    "pt1.y = 1;"
   ]
  },
  {
   "cell_type": "code",
   "execution_count": 14,
   "metadata": {},
   "outputs": [],
   "source": [
    "// find the distance between pt1 and pt2\n",
    "float dist;"
   ]
  },
  {
   "cell_type": "code",
   "execution_count": 15,
   "metadata": {},
   "outputs": [
    {
     "data": {
      "text/plain": [
       "6.08276f"
      ]
     },
     "execution_count": 15,
     "metadata": {},
     "output_type": "execute_result"
    }
   ],
   "source": [
    "dist = sqrt(pow(pt1.x-pt2.x, 2) + pow(pt1.y-pt2.y, 2))"
   ]
  },
  {
   "cell_type": "code",
   "execution_count": 16,
   "metadata": {},
   "outputs": [
    {
     "name": "stdout",
     "output_type": "stream",
     "text": [
      "distance = 6.08276\n"
     ]
    }
   ],
   "source": [
    "cout << \"distance = \" << dist << endl;"
   ]
  },
  {
   "cell_type": "code",
   "execution_count": 17,
   "metadata": {},
   "outputs": [],
   "source": [
    "// accessing members using pointer variables\n",
    "pt_ptr1->x = -3;\n",
    "pt_ptr1->y = 1;"
   ]
  },
  {
   "cell_type": "code",
   "execution_count": 18,
   "metadata": {},
   "outputs": [
    {
     "data": {
      "text/plain": [
       "6.08276f"
      ]
     },
     "execution_count": 18,
     "metadata": {},
     "output_type": "execute_result"
    }
   ],
   "source": [
    "// we get the same result as above\n",
    "dist = sqrt(pow(pt_ptr1->x-pt2.x, 2) + pow(pt_ptr1->y-pt2.y, 2))"
   ]
  },
  {
   "cell_type": "markdown",
   "metadata": {},
   "source": [
    "### Deferencing pointers to their objects\n",
    "- cast as an object by deferencing pointer first and use `.` member access operator"
   ]
  },
  {
   "cell_type": "code",
   "execution_count": 19,
   "metadata": {},
   "outputs": [
    {
     "name": "stdout",
     "output_type": "stream",
     "text": [
      "-3 1"
     ]
    }
   ],
   "source": [
    "// accessing members using by dereferncing pointers\n",
    "cout << (*pt_ptr1).x << \" \" << (*pt_ptr1).y;"
   ]
  },
  {
   "cell_type": "markdown",
   "metadata": {},
   "source": [
    "### Visualize struct and objects in [pythontutor.com](http://pythontutor.com/cpp.html#code=//%20struct%20demo%0A%23include%20%3Ciostream%3E%0Ausing%20namespace%20std%3B%0A%0Astruct%20Point%20%7B%0A%20%20%20%20int%20x%3B%20//%20member%201%0A%20%20%20%20int%20y%3B%20//%20member%202%0A%7D%3B%0A%0Aint%20main%28%29%20%7B%0A%20%20//%20auto%20objects%0A%20%20Point%20pt1%3B%0A%20%20Point%20pt2%20%3D%20%7B3,%204%7D%3B%0A%20%20pt1.x%20%3D%205%3B%0A%20%20pt1.y%20%3D%2010%3B%0A%20%20//%20dynamic%20object%0A%20%20Point%20*%20pt3%20%3D%20new%20Point%28%29%3B%0A%20%20pt3-%3Ex%20%3D%2010%3B%0A%20%20pt3-%3Ey%20%3D%2020%3B%0A%20%20return%200%3B%0A%7D&curInstr=0&mode=display&origin=opt-frontend.js&py=cpp&rawInputLstJSON=%5B%5D)"
   ]
  },
  {
   "cell_type": "markdown",
   "metadata": {},
   "source": [
    "## Template structures\n",
    "- notice that Point class defined above uses **int** as type for $x$ and $y$ coordinates\n",
    "- what if we had a coordinate system that used floating point values\n",
    "    - we'd have to define another struct to represent Point using floating point values\n",
    "- similar to template function, we can use **template type** in struct definition\n",
    "    - acts as a placeholder for type that will be passed when the objects are intantiated\n",
    "- templated struct helps create one generic struct definition that meets all type requirments for its members\n",
    "- syntax to define template struct type:\n",
    "```cpp\n",
    "template<class T1, class T2, ...>\n",
    "struct structName {\n",
    "    T1 member1;\n",
    "    T2 member2;\n",
    "    type member3;\n",
    "    // more templated type or actual type members\n",
    "};\n",
    "```\n",
    "- notice the syntax is same as the function template syntax\n",
    "- `template<class, class, ... >1` construct let's you use 1 or more templated type/class separated by comma\n",
    "\n",
    "- syntax to instantiate objects of template struct types:\n",
    "\n",
    "```cpp\n",
    "structName<actualType1, actualType2, ...> objectName;\n",
    "```\n",
    "- actualType1 replaces T1, acttualType2 replaces T2, and so on..."
   ]
  },
  {
   "cell_type": "markdown",
   "metadata": {},
   "source": [
    "### Templated rectangle type\n",
    "- sides of rectangle may be of various types such as integer, or float or double, etc.\n",
    "- we define templated rectangle type to account for those types"
   ]
  },
  {
   "cell_type": "code",
   "execution_count": 20,
   "metadata": {},
   "outputs": [],
   "source": [
    "// assuming both length and width of any rectangle will have the same type T\n",
    "template<class T>\n",
    "struct Rectangle {\n",
    "    T length, width;\n",
    "    // could use an array of T type\n",
    "    // T sides[2]; \n",
    "    // length and width are better names than array\n",
    "};"
   ]
  },
  {
   "cell_type": "code",
   "execution_count": 21,
   "metadata": {},
   "outputs": [],
   "source": [
    "// instantiate some objects of Rectangle types\n",
    "Rectangle<int> r1;\n",
    "Rectangle<float> r2;"
   ]
  },
  {
   "cell_type": "code",
   "execution_count": 22,
   "metadata": {},
   "outputs": [],
   "source": [
    "// instantiate and initialize rectangle objects\n",
    "Rectangle<int> r3 = {10, 5}; "
   ]
  },
  {
   "cell_type": "code",
   "execution_count": 23,
   "metadata": {},
   "outputs": [],
   "source": [
    "Rectangle<float> r4 = {8.5f, 5.5f};"
   ]
  },
  {
   "cell_type": "code",
   "execution_count": 24,
   "metadata": {},
   "outputs": [],
   "source": [
    "Rectangle<double> r5 = {100.999, 55.898};"
   ]
  },
  {
   "cell_type": "markdown",
   "metadata": {},
   "source": [
    "## Aggregate operations on struct objects\n",
    "- for any type one has to wonder what operators work out of the box\n",
    "    - e.g. on strings, we could use `operator+`, `operator=`, comparison operators (`operator>`, `operator==`, etc.)\n",
    "- no aggregate operations such as input and output are allowed on struct objects as a whole\n",
    "    - e.g. can't `cin >>` or `cout << ` objects as a whole\n",
    "    - it may not make sense to compare two objects (however, compare based on which members?)\n",
    "- for most operations (except for assignmet), objects must be accessed one member at a time!\n",
    "    - Note, there are ways to explictly overload aggregate operations by writing extra code\n",
    "    - that is usually covered in CS2 or *Object Oriented Programming* courses"
   ]
  },
  {
   "cell_type": "code",
   "execution_count": 24,
   "metadata": {},
   "outputs": [
    {
     "name": "stderr",
     "output_type": "stream",
     "text": [
      "\u001b[1minput_line_35:4:6: \u001b[0m\u001b[0;1;31merror: \u001b[0m\u001b[1minvalid operands to binary expression ('std::__1::ostream' (aka 'basic_ostream<char>') and 'Point')\u001b[0m\n",
      "cout << pt1;\n",
      "\u001b[0;1;32m~~~~ ^  ~~~\n",
      "\u001b[0m\u001b[1m/Users/rbasnet/anaconda3/envs/cpp/include/c++/v1/ostream:219:20: \u001b[0m\u001b[0;1;30mnote: \u001b[0mcandidate function not viable: no known conversion from 'Point' to 'const void *' for 1st argument; take\n",
      "      the address of the argument with &\u001b[0m\n",
      "    basic_ostream& operator<<(const void* __p);\n",
      "\u001b[0;1;32m                   ^\n",
      "\u001b[0m\u001b[1m/Users/rbasnet/anaconda3/envs/cpp/include/c++/v1/type_traits:4034:3: \u001b[0m\u001b[0;1;30mnote: \u001b[0mcandidate function not viable: no known conversion from 'std::__1::ostream' (aka 'basic_ostream<char>') to\n",
      "      'std::byte' for 1st argument\u001b[0m\n",
      "  operator<< (byte  __lhs, _Integer __shift) noexcept\n",
      "\u001b[0;1;32m  ^\n",
      "\u001b[0m\u001b[1m/Users/rbasnet/anaconda3/envs/cpp/include/c++/v1/ostream:195:20: \u001b[0m\u001b[0;1;30mnote: \u001b[0mcandidate function not viable: no known conversion from 'Point' to 'std::__1::basic_ostream<char>\n",
      "      &(*)(std::__1::basic_ostream<char> &)' for 1st argument\u001b[0m\n",
      "    basic_ostream& operator<<(basic_ostream& (*__pf)(basic_ostream&))\n",
      "\u001b[0;1;32m                   ^\n",
      "\u001b[0m\u001b[1m/Users/rbasnet/anaconda3/envs/cpp/include/c++/v1/ostream:199:20: \u001b[0m\u001b[0;1;30mnote: \u001b[0mcandidate function not viable: no known conversion from 'Point' to 'basic_ios<std::__1::basic_ostream<char,\n",
      "      std::__1::char_traits<char> >::char_type, std::__1::basic_ostream<char, std::__1::char_traits<char>\n",
      "      >::traits_type> &(*)(basic_ios<std::__1::basic_ostream<char, std::__1::char_traits<char>\n",
      "      >::char_type, std::__1::basic_ostream<char, std::__1::char_traits<char> >::traits_type> &)' (aka\n",
      "      'basic_ios<char, std::__1::char_traits<char> > &(*)(basic_ios<char, std::__1::char_traits<char> >\n",
      "      &)') for 1st argument\u001b[0m\n",
      "    basic_ostream& operator<<(basic_ios<char_type, traits_type>&\n",
      "\u001b[0;1;32m                   ^\n",
      "\u001b[0m\u001b[1m/Users/rbasnet/anaconda3/envs/cpp/include/c++/v1/ostream:204:20: \u001b[0m\u001b[0;1;30mnote: \u001b[0mcandidate function not viable: no known conversion from 'Point' to 'std::__1::ios_base\n",
      "      &(*)(std::__1::ios_base &)' for 1st argument\u001b[0m\n",
      "    basic_ostream& operator<<(ios_base& (*__pf)(ios_base&))\n",
      "\u001b[0;1;32m                   ^\n",
      "\u001b[0m\u001b[1m/Users/rbasnet/anaconda3/envs/cpp/include/c++/v1/ostream:207:20: \u001b[0m\u001b[0;1;30mnote: \u001b[0mcandidate function not viable: no known conversion from 'Point' to 'bool' for 1st argument\u001b[0m\n",
      "    basic_ostream& operator<<(bool __n);\n",
      "\u001b[0;1;32m                   ^\n",
      "\u001b[0m\u001b[1m/Users/rbasnet/anaconda3/envs/cpp/include/c++/v1/ostream:208:20: \u001b[0m\u001b[0;1;30mnote: \u001b[0mcandidate function not viable: no known conversion from 'Point' to 'short' for 1st argument\u001b[0m\n",
      "    basic_ostream& operator<<(short __n);\n",
      "\u001b[0;1;32m                   ^\n",
      "\u001b[0m\u001b[1m/Users/rbasnet/anaconda3/envs/cpp/include/c++/v1/ostream:209:20: \u001b[0m\u001b[0;1;30mnote: \u001b[0mcandidate function not viable: no known conversion from 'Point' to 'unsigned short' for 1st argument\u001b[0m\n",
      "    basic_ostream& operator<<(unsigned short __n);\n",
      "\u001b[0;1;32m                   ^\n",
      "\u001b[0m\u001b[1m/Users/rbasnet/anaconda3/envs/cpp/include/c++/v1/ostream:210:20: \u001b[0m\u001b[0;1;30mnote: \u001b[0mcandidate function not viable: no known conversion from 'Point' to 'int' for 1st argument\u001b[0m\n",
      "    basic_ostream& operator<<(int __n);\n",
      "\u001b[0;1;32m                   ^\n",
      "\u001b[0m\u001b[1m/Users/rbasnet/anaconda3/envs/cpp/include/c++/v1/ostream:211:20: \u001b[0m\u001b[0;1;30mnote: \u001b[0mcandidate function not viable: no known conversion from 'Point' to 'unsigned int' for 1st argument\u001b[0m\n",
      "    basic_ostream& operator<<(unsigned int __n);\n",
      "\u001b[0;1;32m                   ^\n",
      "\u001b[0m\u001b[1m/Users/rbasnet/anaconda3/envs/cpp/include/c++/v1/ostream:212:20: \u001b[0m\u001b[0;1;30mnote: \u001b[0mcandidate function not viable: no known conversion from 'Point' to 'long' for 1st argument\u001b[0m\n",
      "    basic_ostream& operator<<(long __n);\n",
      "\u001b[0;1;32m                   ^\n",
      "\u001b[0m\u001b[1m/Users/rbasnet/anaconda3/envs/cpp/include/c++/v1/ostream:213:20: \u001b[0m\u001b[0;1;30mnote: \u001b[0mcandidate function not viable: no known conversion from 'Point' to 'unsigned long' for 1st argument\u001b[0m\n",
      "    basic_ostream& operator<<(unsigned long __n);\n",
      "\u001b[0;1;32m                   ^\n",
      "\u001b[0m\u001b[1m/Users/rbasnet/anaconda3/envs/cpp/include/c++/v1/ostream:214:20: \u001b[0m\u001b[0;1;30mnote: \u001b[0mcandidate function not viable: no known conversion from 'Point' to 'long long' for 1st argument\u001b[0m\n",
      "    basic_ostream& operator<<(long long __n);\n",
      "\u001b[0;1;32m                   ^\n",
      "\u001b[0m\u001b[1m/Users/rbasnet/anaconda3/envs/cpp/include/c++/v1/ostream:215:20: \u001b[0m\u001b[0;1;30mnote: \u001b[0mcandidate function not viable: no known conversion from 'Point' to 'unsigned long long' for 1st argument\u001b[0m\n",
      "    basic_ostream& operator<<(unsigned long long __n);\n",
      "\u001b[0;1;32m                   ^\n",
      "\u001b[0m\u001b[1m/Users/rbasnet/anaconda3/envs/cpp/include/c++/v1/ostream:216:20: \u001b[0m\u001b[0;1;30mnote: \u001b[0mcandidate function not viable: no known conversion from 'Point' to 'float' for 1st argument\u001b[0m\n",
      "    basic_ostream& operator<<(float __f);\n",
      "\u001b[0;1;32m                   ^\n",
      "\u001b[0m\u001b[1m/Users/rbasnet/anaconda3/envs/cpp/include/c++/v1/ostream:217:20: \u001b[0m\u001b[0;1;30mnote: \u001b[0mcandidate function not viable: no known conversion from 'Point' to 'double' for 1st argument\u001b[0m\n",
      "    basic_ostream& operator<<(double __f);\n",
      "\u001b[0;1;32m                   ^\n",
      "\u001b[0m\u001b[1m/Users/rbasnet/anaconda3/envs/cpp/include/c++/v1/ostream:218:20: \u001b[0m\u001b[0;1;30mnote: \u001b[0mcandidate function not viable: no known conversion from 'Point' to 'long double' for 1st argument\u001b[0m\n",
      "    basic_ostream& operator<<(long double __f);\n",
      "\u001b[0;1;32m                   ^\n",
      "\u001b[0m\u001b[1m/Users/rbasnet/anaconda3/envs/cpp/include/c++/v1/ostream:220:20: \u001b[0m\u001b[0;1;30mnote: \u001b[0mcandidate function not viable: no known conversion from 'Point' to\n",
      "      'basic_streambuf<std::__1::basic_ostream<char, std::__1::char_traits<char> >::char_type,\n",
      "      std::__1::basic_ostream<char, std::__1::char_traits<char> >::traits_type> *' (aka\n",
      "      'basic_streambuf<char, std::__1::char_traits<char> > *') for 1st argument\u001b[0m\n",
      "    basic_ostream& operator<<(basic_streambuf<char_type, traits_type>* __sb);\n",
      "\u001b[0;1;32m                   ^\n",
      "\u001b[0m\u001b[1m/Users/rbasnet/anaconda3/envs/cpp/include/c++/v1/ostream:223:20: \u001b[0m\u001b[0;1;30mnote: \u001b[0mcandidate function not viable: no known conversion from 'Point' to 'std::nullptr_t' (aka 'nullptr_t') for\n",
      "      1st argument\u001b[0m\n",
      "    basic_ostream& operator<<(nullptr_t)\n",
      "\u001b[0;1;32m                   ^\n",
      "\u001b[0m\u001b[1m/Users/rbasnet/anaconda3/envs/cpp/include/c++/v1/ostream:760:1: \u001b[0m\u001b[0;1;30mnote: \u001b[0mcandidate function not viable: no known conversion from 'Point' to 'char' for 2nd argument\u001b[0m\n",
      "operator<<(basic_ostream<_CharT, _Traits>& __os, char __cn)\n",
      "\u001b[0;1;32m^\n",
      "\u001b[0m\u001b[1m/Users/rbasnet/anaconda3/envs/cpp/include/c++/v1/ostream:793:1: \u001b[0m\u001b[0;1;30mnote: \u001b[0mcandidate function not viable: no known conversion from 'Point' to 'char' for 2nd argument\u001b[0m\n",
      "operator<<(basic_ostream<char, _Traits>& __os, char __c)\n",
      "\u001b[0;1;32m^\n",
      "\u001b[0m\u001b[1m/Users/rbasnet/anaconda3/envs/cpp/include/c++/v1/ostream:800:1: \u001b[0m\u001b[0;1;30mnote: \u001b[0mcandidate function not viable: no known conversion from 'Point' to 'signed char' for 2nd argument\u001b[0m\n",
      "operator<<(basic_ostream<char, _Traits>& __os, signed char __c)\n",
      "\u001b[0;1;32m^\n",
      "\u001b[0m\u001b[1m/Users/rbasnet/anaconda3/envs/cpp/include/c++/v1/ostream:807:1: \u001b[0m\u001b[0;1;30mnote: \u001b[0mcandidate function not viable: no known conversion from 'Point' to 'unsigned char' for 2nd argument\u001b[0m\n",
      "operator<<(basic_ostream<char, _Traits>& __os, unsigned char __c)\n",
      "\u001b[0;1;32m^\n",
      "\u001b[0m\u001b[1m/Users/rbasnet/anaconda3/envs/cpp/include/c++/v1/ostream:821:1: \u001b[0m\u001b[0;1;30mnote: \u001b[0mcandidate function not viable: no known conversion from 'Point' to 'const char *' for 2nd argument\u001b[0m\n",
      "operator<<(basic_ostream<_CharT, _Traits>& __os, const char* __strn)\n",
      "\u001b[0;1;32m^\n",
      "\u001b[0m\u001b[1m/Users/rbasnet/anaconda3/envs/cpp/include/c++/v1/ostream:867:1: \u001b[0m\u001b[0;1;30mnote: \u001b[0mcandidate function not viable: no known conversion from 'Point' to 'const char *' for 2nd argument\u001b[0m\n",
      "operator<<(basic_ostream<char, _Traits>& __os, const char* __str)\n",
      "\u001b[0;1;32m^\n",
      "\u001b[0m\u001b[1m/Users/rbasnet/anaconda3/envs/cpp/include/c++/v1/ostream:874:1: \u001b[0m\u001b[0;1;30mnote: \u001b[0mcandidate function not viable: no known conversion from 'Point' to 'const signed char *' for 2nd argument\u001b[0m\n",
      "operator<<(basic_ostream<char, _Traits>& __os, const signed char* __str)\n",
      "\u001b[0;1;32m^\n",
      "\u001b[0m\u001b[1m/Users/rbasnet/anaconda3/envs/cpp/include/c++/v1/ostream:882:1: \u001b[0m\u001b[0;1;30mnote: \u001b[0mcandidate function not viable: no known conversion from 'Point' to 'const unsigned char *' for 2nd argument\u001b[0m\n",
      "operator<<(basic_ostream<char, _Traits>& __os, const unsigned char* __str)\n",
      "\u001b[0;1;32m^\n",
      "\u001b[0m\u001b[1m/Users/rbasnet/anaconda3/envs/cpp/include/c++/v1/ostream:1066:1: \u001b[0m\u001b[0;1;30mnote: \u001b[0mcandidate function not viable: no known conversion from 'Point' to 'const std::__1::error_code' for 2nd\n",
      "      argument\u001b[0m\n",
      "operator<<(basic_ostream<_CharT, _Traits>& __os, const error_code& __ec)\n",
      "\u001b[0;1;32m^\n",
      "\u001b[0m\u001b[1m/Users/rbasnet/anaconda3/envs/cpp/include/c++/v1/ostream:753:1: \u001b[0m\u001b[0;1;30mnote: \u001b[0mcandidate template ignored: deduced conflicting types for parameter '_CharT' ('char' vs. 'Point')\u001b[0m\n",
      "operator<<(basic_ostream<_CharT, _Traits>& __os, _CharT __c)\n",
      "\u001b[0;1;32m^\n",
      "\u001b[0m\u001b[1m/Users/rbasnet/anaconda3/envs/cpp/include/c++/v1/ostream:1057:1: \u001b[0m\u001b[0;1;30mnote: \u001b[0mcandidate template ignored: could not match 'basic_string_view<type-parameter-0-0, type-parameter-0-1>'\n",
      "      against 'Point'\u001b[0m\n",
      "operator<<(basic_ostream<_CharT, _Traits>& __os,\n",
      "\u001b[0;1;32m^\n",
      "\u001b[0m\u001b[1m/Users/rbasnet/anaconda3/envs/cpp/include/c++/v1/ostream:1086:1: \u001b[0m\u001b[0;1;30mnote: \u001b[0mcandidate template ignored: could not match 'unique_ptr<type-parameter-0-2, type-parameter-0-3>' against\n",
      "      'Point'\u001b[0m\n",
      "operator<<(basic_ostream<_CharT, _Traits>& __os, unique_ptr<_Yp, _Dp> const& __p)\n",
      "\u001b[0;1;32m^\n",
      "\u001b[0m\u001b[1m/Users/rbasnet/anaconda3/envs/cpp/include/c++/v1/iomanip:477:5: \u001b[0m\u001b[0;1;30mnote: \u001b[0mcandidate template ignored: could not match '__iom_t10<type-parameter-0-0>' against 'Point'\u001b[0m\n",
      "    operator<<(basic_ostream<_Cp, _Traits>& __os, const __iom_t10<_Cp>& __x);\n",
      "\u001b[0;1;32m    ^\n",
      "\u001b[0m\u001b[1m/Users/rbasnet/anaconda3/envs/cpp/include/c++/v1/iomanip:572:33: \u001b[0m\u001b[0;1;30mnote: \u001b[0mcandidate template ignored: could not match '__quoted_output_proxy<type-parameter-0-0, type-parameter-0-2,\n",
      "      type-parameter-0-1>' against 'Point'\u001b[0m\n",
      "basic_ostream<_CharT, _Traits>& operator<<(\n",
      "\u001b[0;1;32m                                ^\n",
      "\u001b[0m\u001b[1m/Users/rbasnet/anaconda3/envs/cpp/include/c++/v1/iomanip:592:33: \u001b[0m\u001b[0;1;30mnote: \u001b[0mcandidate template ignored: could not match '__quoted_proxy<type-parameter-0-0, type-parameter-0-1,\n",
      "      type-parameter-0-2>' against 'Point'\u001b[0m\n",
      "basic_ostream<_CharT, _Traits>& operator<<(\n",
      "\u001b[0;1;32m                                ^\n",
      "\u001b[0m\u001b[1m/Users/rbasnet/anaconda3/envs/cpp/include/c++/v1/ostream:1039:1: \u001b[0m\u001b[0;1;30mnote: \u001b[0mcandidate template ignored: requirement '!is_lvalue_reference<basic_ostream<char> &>::value' was not\n",
      "      satisfied [with _Stream = std::__1::basic_ostream<char> &, _Tp = Point]\u001b[0m\n",
      "operator<<(_Stream&& __os, const _Tp& __x)\n",
      "\u001b[0;1;32m^\n",
      "\u001b[0m\u001b[1m/Users/rbasnet/anaconda3/envs/cpp/include/c++/v1/ostream:814:1: \u001b[0m\u001b[0;1;30mnote: \u001b[0mcandidate template ignored: could not match 'const _CharT *' against 'Point'\u001b[0m\n",
      "operator<<(basic_ostream<_CharT, _Traits>& __os, const _CharT* __str)\n",
      "\u001b[0;1;32m^\n",
      "\u001b[0m\u001b[1m/Users/rbasnet/anaconda3/envs/cpp/include/c++/v1/ostream:1093:1: \u001b[0m\u001b[0;1;30mnote: \u001b[0mcandidate template ignored: could not match 'bitset<_Size>' against 'Point'\u001b[0m\n",
      "operator<<(basic_ostream<_CharT, _Traits>& __os, const bitset<_Size>& __x)\n",
      "\u001b[0;1;32m^\n",
      "\u001b[0m\u001b[1m/Users/rbasnet/anaconda3/envs/cpp/include/c++/v1/valarray:4165:1: \u001b[0m\u001b[0;1;30mnote: \u001b[0mcandidate template ignored: substitution failure [with _Expr1 = std::__1::basic_ostream<char>, _Expr2 =\n",
      "      Point]: no type named 'value_type' in 'std::__1::basic_ostream<char>'\u001b[0m\n",
      "operator<<(const _Expr1& __x, const _Expr2& __y)\n",
      "\u001b[0;1;32m^\n",
      "\u001b[0m\u001b[1m/Users/rbasnet/anaconda3/envs/cpp/include/c++/v1/valarray:4180:1: \u001b[0m\u001b[0;1;30mnote: \u001b[0mcandidate template ignored: substitution failure [with _Expr = std::__1::basic_ostream<char>]: no type\n",
      "      named 'value_type' in 'std::__1::basic_ostream<char>'\u001b[0m\n",
      "operator<<(const _Expr& __x, const typename _Expr::value_type& __y)\n",
      "\u001b[0;1;32m^\n",
      "\u001b[0m\u001b[1m/Users/rbasnet/anaconda3/envs/cpp/include/c++/v1/valarray:4196:1: \u001b[0m\u001b[0;1;30mnote: \u001b[0mcandidate template ignored: substitution failure [with _Expr = Point]: no type named 'value_type' in\n",
      "      'Point'\u001b[0m\n",
      "operator<<(const typename _Expr::value_type& __x, const _Expr& __y)\n",
      "\u001b[0;1;32m^\n",
      "\u001b[0m\u001b[1m/Users/rbasnet/anaconda3/envs/cpp/include/c++/v1/ostream:1049:1: \u001b[0m\u001b[0;1;30mnote: \u001b[0mcandidate template ignored: could not match 'basic_string<type-parameter-0-0, type-parameter-0-1,\n",
      "      type-parameter-0-2>' against 'Point'\u001b[0m\n",
      "operator<<(basic_ostream<_CharT, _Traits>& __os,\n",
      "\u001b[0;1;32m^\n",
      "\u001b[0m\u001b[1m/Users/rbasnet/anaconda3/envs/cpp/include/c++/v1/ostream:1074:1: \u001b[0m\u001b[0;1;30mnote: \u001b[0mcandidate template ignored: could not match 'shared_ptr<type-parameter-0-2>' against 'Point'\u001b[0m\n",
      "operator<<(basic_ostream<_CharT, _Traits>& __os, shared_ptr<_Yp> const& __p)\n",
      "\u001b[0;1;32m^\n",
      "\u001b[0m\u001b[1m/Users/rbasnet/anaconda3/envs/cpp/include/c++/v1/iomanip:362:1: \u001b[0m\u001b[0;1;30mnote: \u001b[0mcandidate template ignored: could not match '__iom_t8<type-parameter-0-2>' against 'Point'\u001b[0m\n",
      "operator<<(basic_ostream<_CharT, _Traits>& __os, const __iom_t8<_MoneyT>& __x)\n",
      "\u001b[0;1;32m^\n",
      "\u001b[0m"
     ]
    },
    {
     "ename": "Interpreter Error",
     "evalue": "",
     "output_type": "error",
     "traceback": [
      "Interpreter Error: "
     ]
    }
   ],
   "source": [
    "// try cout; can't!!\n",
    "// pt1 is an object of Point type\n",
    "// cout << pt1;\n",
    "// cout may be broken if you run this! so restart the kernel if you get error"
   ]
  },
  {
   "cell_type": "code",
   "execution_count": 25,
   "metadata": {},
   "outputs": [],
   "source": [
    "// read in/store data one member at a time\n",
    "char ch;\n",
    "Point pt3;"
   ]
  },
  {
   "cell_type": "code",
   "execution_count": 26,
   "metadata": {},
   "outputs": [
    {
     "name": "stdout",
     "output_type": "stream",
     "text": [
      "Enter a point in (x, y) format: (10, 20)\n"
     ]
    },
    {
     "data": {
      "text/plain": [
       "@0x10f4ee408"
      ]
     },
     "execution_count": 26,
     "metadata": {},
     "output_type": "execute_result"
    }
   ],
   "source": [
    "cout << \"Enter a point in (x, y) format: \";\n",
    "cin >> ch >> pt3.x >> ch >> pt3.y >> ch;\n",
    "// ch is just a place variable for unnecessary character to read and ignore"
   ]
  },
  {
   "cell_type": "code",
   "execution_count": 27,
   "metadata": {},
   "outputs": [
    {
     "name": "stdout",
     "output_type": "stream",
     "text": [
      "pt3 = (10, 20)"
     ]
    }
   ],
   "source": [
    "// print the point in right format; accessing one member at a time\n",
    "cout << \"pt3 = (\" << pt3.x << \", \" << pt3.y << \")\";"
   ]
  },
  {
   "cell_type": "markdown",
   "metadata": {},
   "source": [
    "### aggregate copy ( operator= ) is allowed\n",
    "- one struct object can be copied into another out of the box\n",
    "- object is copied member by member from source (right) to destination (left)"
   ]
  },
  {
   "cell_type": "code",
   "execution_count": 28,
   "metadata": {},
   "outputs": [],
   "source": [
    "Point pt4 = pt3;"
   ]
  },
  {
   "cell_type": "markdown",
   "metadata": {},
   "source": [
    "## Passing struct objects to functions\n",
    "- struct objects can be passed to functions both by value and by reference\n",
    "\n",
    "### pass by value\n",
    "- by default struct objects are passed by value\n",
    "- struct objects can be copied into another same type of struct objects using `=` assignment operator\n",
    "- this allows us to pass struct to functions by value (by copying the data)\n",
    "    - though not recommended! why?"
   ]
  },
  {
   "cell_type": "code",
   "execution_count": 29,
   "metadata": {},
   "outputs": [],
   "source": [
    "// passing some constant Point\n",
    "void printPoint(const Point pt) {\n",
    "    cout << \"(\" << pt.x << \", \" << pt.y << \")\";\n",
    "}"
   ]
  },
  {
   "cell_type": "code",
   "execution_count": 30,
   "metadata": {},
   "outputs": [
    {
     "name": "stdout",
     "output_type": "stream",
     "text": [
      "(10, 20)"
     ]
    }
   ],
   "source": [
    "printPoint(pt4);"
   ]
  },
  {
   "cell_type": "markdown",
   "metadata": {},
   "source": [
    "### pass by reference\n",
    "- any data type can be explictly passed by reference in C++\n",
    "- recommended as it's more efficient (less memory, faster computation as no copy is required)"
   ]
  },
  {
   "cell_type": "code",
   "execution_count": 31,
   "metadata": {},
   "outputs": [],
   "source": [
    "void getPoint(Point & pt) {\n",
    "    cout << \"Enter a point in (x, y) format: \";\n",
    "    cin >> ch >> pt.x >> ch >> pt.y >> ch;\n",
    "    // Note: when using terminal, after the last character ) is read \\n is left behind\n",
    "    // getline() will fail!\n",
    "    // good idea to read \\n whitespace and ignore it!\n",
    "}"
   ]
  },
  {
   "cell_type": "code",
   "execution_count": 32,
   "metadata": {},
   "outputs": [],
   "source": [
    "Point pt5;"
   ]
  },
  {
   "cell_type": "code",
   "execution_count": 33,
   "metadata": {},
   "outputs": [
    {
     "name": "stdout",
     "output_type": "stream",
     "text": [
      "Enter a point in (x, y) format: (9, -1)\n"
     ]
    }
   ],
   "source": [
    "getPoint(pt5);"
   ]
  },
  {
   "cell_type": "code",
   "execution_count": 34,
   "metadata": {},
   "outputs": [
    {
     "name": "stdout",
     "output_type": "stream",
     "text": [
      "(9, -1)"
     ]
    }
   ],
   "source": [
    "printPoint(pt5);"
   ]
  },
  {
   "cell_type": "code",
   "execution_count": 35,
   "metadata": {},
   "outputs": [],
   "source": [
    "// function finds the distance between two points\n",
    "// sqrt( (x1-x2)^2 + (y1-y2)^2 )\n",
    "float distance(const Point & p1, const Point & p2) {\n",
    "    return sqrt(pow(p1.x-p2.x, 2) + pow(p1.y-p2.y, 2));\n",
    "}"
   ]
  },
  {
   "cell_type": "code",
   "execution_count": 36,
   "metadata": {},
   "outputs": [
    {
     "name": "stdout",
     "output_type": "stream",
     "text": [
      "distance between (10, 20) and (9, -1) = 21.0238"
     ]
    }
   ],
   "source": [
    "cout << \"distance between \";\n",
    "printPoint(pt4);\n",
    "cout << \" and \";\n",
    "printPoint(pt5);\n",
    "cout << \" = \" << distance(pt4, pt5);"
   ]
  },
  {
   "cell_type": "markdown",
   "metadata": {},
   "source": [
    "## Returning struct from functions\n",
    "- as the `=` assignment works on structs, functions can return struct types\n",
    "- though not recommended! why?\n",
    "    - same reason as pass by value"
   ]
  },
  {
   "cell_type": "code",
   "execution_count": 37,
   "metadata": {},
   "outputs": [],
   "source": [
    "// function returns Point type object\n",
    "Point getPoint() {\n",
    "    Point pt;\n",
    "    cout << \"Enter a point in (x, y) format: \";\n",
    "    cin >> ch >> pt.x >> ch >> pt.y >> ch;\n",
    "    return pt;\n",
    "}"
   ]
  },
  {
   "cell_type": "code",
   "execution_count": 38,
   "metadata": {},
   "outputs": [
    {
     "name": "stdout",
     "output_type": "stream",
     "text": [
      "Enter a point in (x, y) format: \n",
      "(5, 9)\n"
     ]
    }
   ],
   "source": [
    "// assign the returned object from getPoint() to pt6 object\n",
    "Point pt6 = getPoint();"
   ]
  },
  {
   "cell_type": "code",
   "execution_count": 39,
   "metadata": {},
   "outputs": [
    {
     "name": "stdout",
     "output_type": "stream",
     "text": [
      "(5, 9)"
     ]
    }
   ],
   "source": [
    "printPoint(pt6);"
   ]
  },
  {
   "cell_type": "markdown",
   "metadata": {},
   "source": [
    "## Array/vectors of structs\n",
    "- if more than one similar records/structs need to be stored\n",
    "    - we can use array or vector of struct type\n",
    "- let's say, we need to store a bunch of coordinate points in memory\n",
    "    - array/vector of points is a natural choice!"
   ]
  },
  {
   "cell_type": "code",
   "execution_count": 40,
   "metadata": {},
   "outputs": [],
   "source": [
    "// declare and initialize array\n",
    "Point points[] = {{1, 2}, {3, 4}, {6, 7}, {-1, -1}, {0, 0}};"
   ]
  },
  {
   "cell_type": "code",
   "execution_count": 41,
   "metadata": {},
   "outputs": [],
   "source": [
    "// declare array of points\n",
    "Point points1[2];"
   ]
  },
  {
   "cell_type": "code",
   "execution_count": 42,
   "metadata": {},
   "outputs": [
    {
     "name": "stdout",
     "output_type": "stream",
     "text": [
      "(1, 2)"
     ]
    }
   ],
   "source": [
    "// accessing point element in array\n",
    "printPoint(points[0]);"
   ]
  },
  {
   "cell_type": "code",
   "execution_count": 43,
   "metadata": {},
   "outputs": [
    {
     "name": "stdout",
     "output_type": "stream",
     "text": [
      "first point's x = 1\n"
     ]
    }
   ],
   "source": [
    "// accessing point element's member in array\n",
    "cout << \"first point's x = \" << points[0].x << endl;"
   ]
  },
  {
   "cell_type": "code",
   "execution_count": 44,
   "metadata": {},
   "outputs": [
    {
     "name": "stdout",
     "output_type": "stream",
     "text": [
      "Enter a point in (x, y) format: (3, 2)\n"
     ]
    }
   ],
   "source": [
    "// assiging values to array\n",
    "points1[0] = getPoint();"
   ]
  },
  {
   "cell_type": "code",
   "execution_count": 45,
   "metadata": {},
   "outputs": [
    {
     "name": "stdout",
     "output_type": "stream",
     "text": [
      "Enter a point in (x, y) format: (9, 8)\n"
     ]
    }
   ],
   "source": [
    "points1[1] = getPoint();"
   ]
  },
  {
   "cell_type": "markdown",
   "metadata": {},
   "source": [
    "### vectors of struct type\n",
    "- vectors, like arrays, can be used to store user-defined **struct** types"
   ]
  },
  {
   "cell_type": "code",
   "execution_count": 46,
   "metadata": {},
   "outputs": [],
   "source": [
    "// declare and initialize vector of Point\n",
    "vector<Point> point_vector = {{0, 0}, {1, 1}, {2, 2}};"
   ]
  },
  {
   "cell_type": "code",
   "execution_count": 47,
   "metadata": {},
   "outputs": [],
   "source": [
    "// create vector of RectangleType\n",
    "vector<Rectangle<int> > rects;"
   ]
  },
  {
   "cell_type": "code",
   "execution_count": 48,
   "metadata": {},
   "outputs": [],
   "source": [
    "// add r1 rectangle object to rects vector\n",
    "rects.push_back(r1);"
   ]
  },
  {
   "cell_type": "code",
   "execution_count": 49,
   "metadata": {},
   "outputs": [],
   "source": [
    "// can't add Rectangle r2 because its type is float\n",
    "rects.push_back(r3);"
   ]
  },
  {
   "cell_type": "code",
   "execution_count": 50,
   "metadata": {},
   "outputs": [],
   "source": [
    "// declare and initialize rectangles vector with two rectangles\n",
    "vector<Rectangle<float> > rectangles = {{10, 5}, {8.5, 2.6}};"
   ]
  },
  {
   "cell_type": "code",
   "execution_count": 51,
   "metadata": {},
   "outputs": [
    {
     "name": "stdout",
     "output_type": "stream",
     "text": [
      "area = 50\n"
     ]
    }
   ],
   "source": [
    "// calculate area of first rectangle stored in rectangles vector\n",
    "cout << \"area = \" << rectangles[0].length*rectangles[0].width << endl;"
   ]
  },
  {
   "cell_type": "code",
   "execution_count": 52,
   "metadata": {},
   "outputs": [
    {
     "name": "stdout",
     "output_type": "stream",
     "text": [
      "rectangle info - length x width: 10 x 5\n",
      "rectangle info - length x width: 8.5 x 2.6\n"
     ]
    }
   ],
   "source": [
    "// traversing vectors\n",
    "// auto also works on user-defined type\n",
    "for(auto rect: rectangles) {\n",
    "    cout << \"rectangle info - length x width: \" << rect.length << \" x \" << rect.width << endl;\n",
    "}"
   ]
  },
  {
   "cell_type": "code",
   "execution_count": 55,
   "metadata": {},
   "outputs": [
    {
     "name": "stdout",
     "output_type": "stream",
     "text": [
      "rectangle info - length x width: 10 x 5\n",
      "rectangle info - length x width: 8.5 x 2.6\n"
     ]
    }
   ],
   "source": [
    "// same as above\n",
    "for(Rectangle<float> rect: rectangles) {\n",
    "    cout << \"rectangle info - length x width: \" << rect.length << \" x \" << rect.width << endl;\n",
    "}"
   ]
  },
  {
   "cell_type": "code",
   "execution_count": 56,
   "metadata": {},
   "outputs": [
    {
     "name": "stdout",
     "output_type": "stream",
     "text": [
      "rectangle area: 10x5 = 50\n",
      "rectangle area: 8.5x2.6 = 22.1\n"
     ]
    }
   ],
   "source": [
    "// using index\n",
    "for(int i=0; i<rectangles.size(); i++) {\n",
    "    cout << \"rectangle area: \" \n",
    "        << rectangles[i].length << \"x\" \n",
    "        << rectangles[i].width << \" = \" \n",
    "        << rectangles[i].length*rectangles[i].width << endl;\n",
    "}"
   ]
  },
  {
   "cell_type": "markdown",
   "metadata": {},
   "source": [
    "## Array/vector in struct\n",
    "- array or vector of any type can be used as a member of a struct\n",
    "- if there are several members of same types that don't need their own names, we can use an array/vector member\n",
    "- having each member their own name makes program more readable and struct intuitive to use, however!"
   ]
  },
  {
   "cell_type": "code",
   "execution_count": 57,
   "metadata": {},
   "outputs": [],
   "source": [
    "#include <vector>"
   ]
  },
  {
   "cell_type": "code",
   "execution_count": 58,
   "metadata": {},
   "outputs": [],
   "source": [
    "// let's define a structure to store student record\n",
    "struct Student {\n",
    "    string firstName;\n",
    "    char MI;\n",
    "    string lastName;\n",
    "    vector<float> test_scores; // each test doesn't have a unique name\n",
    "    string pri_contact_fName;\n",
    "    char pri_contact_MI;\n",
    "    string pri_contact_lName;\n",
    "    bool semester_finished[2]; // semesters though have names Freshman Fall, etc.; we can use 1st, 2nd etc.\n",
    "};"
   ]
  },
  {
   "cell_type": "code",
   "execution_count": 59,
   "metadata": {},
   "outputs": [],
   "source": [
    "// declaration of st1\n",
    "Student st1;"
   ]
  },
  {
   "cell_type": "code",
   "execution_count": 60,
   "metadata": {},
   "outputs": [],
   "source": [
    "st1.firstName = \"John\";"
   ]
  },
  {
   "cell_type": "code",
   "execution_count": 61,
   "metadata": {},
   "outputs": [],
   "source": [
    "// accessing an array member\n",
    "// NOTE: array can be accessed one element at a time\n",
    "st1.test_scores.push_back(100);\n",
    "st1.test_scores.push_back(95.5);"
   ]
  },
  {
   "cell_type": "code",
   "execution_count": 62,
   "metadata": {},
   "outputs": [],
   "source": [
    "// accessing another array member\n",
    "st1.semester_finished[0] = true;\n",
    "st1.semester_finished[1] = false;"
   ]
  },
  {
   "cell_type": "code",
   "execution_count": 63,
   "metadata": {},
   "outputs": [],
   "source": [
    "// instantiate and initialize\n",
    "// Note the order of values and how each member is initialized based on its type\n",
    "Student st2 = {\"Jane\", 'A', \"Smith\", {0, 0, 0}, \"Jim\", 'J', \"Smith\", {false, false}};"
   ]
  },
  {
   "cell_type": "code",
   "execution_count": 64,
   "metadata": {},
   "outputs": [
    {
     "data": {
      "text/plain": [
       "0.00000f"
      ]
     },
     "execution_count": 64,
     "metadata": {},
     "output_type": "execute_result"
    }
   ],
   "source": [
    "// Access student 2's first test score\n",
    "st2.test_scores[0]"
   ]
  },
  {
   "cell_type": "code",
   "execution_count": 65,
   "metadata": {},
   "outputs": [
    {
     "data": {
      "text/plain": [
       "0.00000f"
      ]
     },
     "execution_count": 65,
     "metadata": {},
     "output_type": "execute_result"
    }
   ],
   "source": [
    "// Access student 2's last test score\n",
    "st2.test_scores.back()"
   ]
  },
  {
   "cell_type": "code",
   "execution_count": 66,
   "metadata": {},
   "outputs": [
    {
     "data": {
      "text/plain": [
       "100.000f"
      ]
     },
     "execution_count": 66,
     "metadata": {},
     "output_type": "execute_result"
    }
   ],
   "source": [
    "// student 1's first test socre\n",
    "st1.test_scores.front()"
   ]
  },
  {
   "cell_type": "markdown",
   "metadata": {},
   "source": [
    "## Struct inside another struct (aka nested strut)\n",
    "- any struct type can be used as a member type in another struct type\n",
    "- in Student structure above, firstName, MI and lastNames can be repeated for various names \n",
    "    - student name, primary contact, secondary contact, father's name, mother's name, etc.\n",
    "- we can convert the repeating group of members into its own struct type"
   ]
  },
  {
   "cell_type": "code",
   "execution_count": 67,
   "metadata": {},
   "outputs": [],
   "source": [
    "// most people have three names\n",
    "struct NameType {\n",
    "    string firstName;\n",
    "    char MI;\n",
    "    string lastName;\n",
    "};"
   ]
  },
  {
   "cell_type": "code",
   "execution_count": 68,
   "metadata": {},
   "outputs": [],
   "source": [
    "// let's redifine Student type with NameType\n",
    "struct StudentType {\n",
    "    NameType name;\n",
    "    float test_scores[3];\n",
    "    NameType primary_contact;\n",
    "    bool semester_finished[2];\n",
    "};\n",
    "// Notice how shorter the StudentType has become using NameType?\n",
    "// we can declare as many names of NameType as we wish\n",
    "// makes the StudentType concise yet readable and intuitive"
   ]
  },
  {
   "cell_type": "code",
   "execution_count": 69,
   "metadata": {},
   "outputs": [],
   "source": [
    "// instantiate objects\n",
    "StudentType st3;"
   ]
  },
  {
   "cell_type": "code",
   "execution_count": 70,
   "metadata": {},
   "outputs": [],
   "source": [
    "// assign values to name member\n",
    "// \"name\" is a member of st3 object but it itself is a struct type object\n",
    "// keep drilling down until we come to the actual member name that stores the data\n",
    "st3.name.firstName = \"David\";\n",
    "st3.name.MI = 'A';\n",
    "st3.name.lastName = \"Johnson\";"
   ]
  },
  {
   "cell_type": "code",
   "execution_count": 71,
   "metadata": {},
   "outputs": [],
   "source": [
    "// shorter way to assign to a struct type object\n",
    "st3.name = {\"Dave\", 'A', \"Johnson\"};"
   ]
  },
  {
   "cell_type": "code",
   "execution_count": 72,
   "metadata": {},
   "outputs": [],
   "source": [
    "// create an array of student records\n",
    "StudentType students[2];"
   ]
  },
  {
   "cell_type": "code",
   "execution_count": 73,
   "metadata": {},
   "outputs": [],
   "source": [
    "students[0] = st3;"
   ]
  },
  {
   "cell_type": "code",
   "execution_count": 74,
   "metadata": {},
   "outputs": [],
   "source": [
    "// access member of array and member of struct\n",
    "students[0].semester_finished[0] = true;"
   ]
  },
  {
   "cell_type": "markdown",
   "metadata": {},
   "source": [
    "## Reading structured data from any input stream\n",
    "- one must know the structure of data inorder to properly read/parse and store it into a program\n",
    "- reading unstructured data is difficult\n",
    "    - one way is to read line by line and process each line\n",
    "    - another, read whole file and precess it byte by byte\n",
    "- reading structured data is a bit easier\n",
    "- let's read the structured data provided in [studentgrades.txt](studentgrades.txt) file\n",
    "    - there are 3 rows or records and 5 columns (values) for each record\n",
    "    - first 2 columns are string (names) and the rest 3 columns are integers (grades)\n",
    "- most Kattis problems provide some structures in their input data so the programmers can correctly parse the data"
   ]
  },
  {
   "cell_type": "code",
   "execution_count": 75,
   "metadata": {},
   "outputs": [],
   "source": [
    "#include <iostream>\n",
    "#include <fstream>\n",
    "#include <string>\n",
    "#include <functional>\n",
    "#include <algorithm>\n",
    "#include <vector>\n",
    "\n",
    "using namespace std;"
   ]
  },
  {
   "cell_type": "code",
   "execution_count": 76,
   "metadata": {},
   "outputs": [],
   "source": [
    "// struct type is a perfect way to read these student's grades\n",
    "struct StudentGrade {\n",
    "    string firstName;\n",
    "    string lastName;\n",
    "    int grades[3];\n",
    "    float averageGrade;\n",
    "    char letterGrade;\n",
    "};"
   ]
  },
  {
   "cell_type": "code",
   "execution_count": 77,
   "metadata": {},
   "outputs": [],
   "source": [
    "// let's create a vector of Student type to store all the records\n",
    "vector<StudentGrade> gradebook;"
   ]
  },
  {
   "cell_type": "code",
   "execution_count": 78,
   "metadata": {},
   "outputs": [],
   "source": [
    "ifstream fin;"
   ]
  },
  {
   "cell_type": "code",
   "execution_count": 79,
   "metadata": {},
   "outputs": [],
   "source": [
    "// let's read the data\n",
    "// fin is ifstream object declared above\n",
    "fin.open(\"studentgrades.txt\");"
   ]
  },
  {
   "cell_type": "code",
   "execution_count": 80,
   "metadata": {},
   "outputs": [],
   "source": [
    "// let's compute average grade\n",
    "float average(const StudentGrade & s) {\n",
    "    float sum = s.grades[0] + s.grades[1] + s.grades[2];\n",
    "    return sum/3.0;\n",
    "}"
   ]
  },
  {
   "cell_type": "code",
   "execution_count": 81,
   "metadata": {},
   "outputs": [],
   "source": [
    "while(!fin.eof()) { // eof() checks if end-of-file has been reached\n",
    "    // create Student object to hold the data temporarily\n",
    "    StudentGrade temp;\n",
    "    fin >> temp.firstName >> temp.lastName >> temp.grades[0] >> temp.grades[1] >> temp.grades[2];\n",
    "    if (!fin.good()) break;\n",
    "    temp.averageGrade = average(temp);\n",
    "    // add the temp to gradebook\n",
    "    gradebook.push_back(temp);\n",
    "}"
   ]
  },
  {
   "cell_type": "code",
   "execution_count": 82,
   "metadata": {},
   "outputs": [],
   "source": [
    "// close file\n",
    "fin.close();"
   ]
  },
  {
   "cell_type": "code",
   "execution_count": 83,
   "metadata": {},
   "outputs": [],
   "source": [
    "// let's write a function to print Student's info\n",
    "void printStudent(const StudentGrade & s) {\n",
    "    cout << s.firstName << \" \" << s.lastName << \" \" << s.grades[0] << \" \" \n",
    "        << s.grades[1] << \" \" << s.grades[2] << \" avg: \" << s.averageGrade;\n",
    "}"
   ]
  },
  {
   "cell_type": "code",
   "execution_count": 84,
   "metadata": {},
   "outputs": [
    {
     "name": "stdout",
     "output_type": "stream",
     "text": [
      "John Smith 100 95 85 avg: 93.3333"
     ]
    }
   ],
   "source": [
    "// let's print the first student's info\n",
    "printStudent(gradebook[0]);"
   ]
  },
  {
   "cell_type": "code",
   "execution_count": 85,
   "metadata": {},
   "outputs": [
    {
     "name": "stdout",
     "output_type": "stream",
     "text": [
      "John Smith 100 95 85 avg: 93.3333\n",
      "Jane Doe 85 89 99 avg: 91\n",
      "Jill Jones 56 89 99 avg: 81.3333\n"
     ]
    }
   ],
   "source": [
    "// print all the students' info\n",
    "for(StudentGrade s: gradebook) {\n",
    "    printStudent(s);\n",
    "    cout << endl;\n",
    "}"
   ]
  },
  {
   "cell_type": "code",
   "execution_count": 86,
   "metadata": {},
   "outputs": [],
   "source": [
    "// sort the student records based on average score?\n",
    "// need to define a comparision function and pass it to sort\n",
    "// compares two students' average grades in ascending order\n",
    "bool compareSmaller(const StudentGrade & s1, const StudentGrade & s2) {\n",
    "    return (s1.averageGrade < s2.averageGrade);\n",
    "}"
   ]
  },
  {
   "cell_type": "code",
   "execution_count": 87,
   "metadata": {},
   "outputs": [],
   "source": [
    "// now we can sort the gradebook\n",
    "sort(gradebook.begin(), gradebook.end(), compareSmaller);"
   ]
  },
  {
   "cell_type": "code",
   "execution_count": 88,
   "metadata": {},
   "outputs": [
    {
     "name": "stdout",
     "output_type": "stream",
     "text": [
      "Jill Jones 56 89 99 avg: 81.3333\n",
      "Jane Doe 85 89 99 avg: 91\n",
      "John Smith 100 95 85 avg: 93.3333\n"
     ]
    }
   ],
   "source": [
    "// print all the students' info\n",
    "for(StudentGrade s: gradebook) {\n",
    "    printStudent(s);\n",
    "    cout << endl;\n",
    "}"
   ]
  },
  {
   "cell_type": "code",
   "execution_count": 89,
   "metadata": {},
   "outputs": [],
   "source": [
    "// let's write a compare function for descending order\n",
    "bool compareGreater(const StudentGrade & s1, const StudentGrade & s2) {\n",
    "    return (s1.averageGrade > s2.averageGrade);\n",
    "}"
   ]
  },
  {
   "cell_type": "code",
   "execution_count": 90,
   "metadata": {},
   "outputs": [],
   "source": [
    "// now we can sort the gradebook in descending order using our own compare function\n",
    "sort(gradebook.begin(), gradebook.end(), compareGreater);"
   ]
  },
  {
   "cell_type": "code",
   "execution_count": 91,
   "metadata": {},
   "outputs": [
    {
     "name": "stdout",
     "output_type": "stream",
     "text": [
      "John Smith 100 95 85 avg: 93.3333\n",
      "Jane Doe 85 89 99 avg: 91\n",
      "Jill Jones 56 89 99 avg: 81.3333\n"
     ]
    }
   ],
   "source": [
    "// print all the students' info\n",
    "// looks like this could go into a function...\n",
    "for(StudentGrade s: gradebook) {\n",
    "    printStudent(s);\n",
    "    cout << endl;\n",
    "}"
   ]
  },
  {
   "cell_type": "markdown",
   "metadata": {},
   "source": [
    "## Writing structured data to an output stream\n",
    "- print students' grades report in a tabular format to standard output or a filefile"
   ]
  },
  {
   "cell_type": "code",
   "execution_count": 92,
   "metadata": {},
   "outputs": [],
   "source": [
    "// let's create and open a file to write data to\n",
    "ofstream fout(\"studentgradereport.txt\");"
   ]
  },
  {
   "cell_type": "code",
   "execution_count": 93,
   "metadata": {},
   "outputs": [],
   "source": [
    "int colWidth;"
   ]
  },
  {
   "cell_type": "code",
   "execution_count": 94,
   "metadata": {},
   "outputs": [],
   "source": [
    "colWidth = 20;"
   ]
  },
  {
   "cell_type": "code",
   "execution_count": 95,
   "metadata": {},
   "outputs": [],
   "source": [
    "// print all the students' info to the fout stream\n",
    "\n",
    "// write column headers\n",
    "fout << setw(90) << setfill('=') << \" \" << setfill(' ') << endl;\n",
    "fout << setw(colWidth) << left << \"First Name\" \n",
    "    << setw(colWidth) << left << \"Last Name\";\n",
    "// students grades\n",
    "for(int i=0; i<3; i++) {\n",
    "    string testHeader = \"test\" + to_string(i+1);\n",
    "    fout << setw(10) << right << testHeader;\n",
    "}\n",
    "    \n",
    "fout << setw(15) << right << \"Avgerage\" << endl;\n",
    "fout << setw(90) << right << setfill('=') << \" \" << endl;\n",
    "\n",
    "// write records\n",
    "fout << setfill(' ') << fixed << setprecision(1);\n",
    "for(StudentGrade s: gradebook) {\n",
    "    fout << setw(colWidth) << left << s.firstName\n",
    "        << setw(colWidth) << left << s.lastName;\n",
    "    for(int i=0; i<3; i++)\n",
    "        fout << setw(10) << right << s.grades[i];\n",
    "    fout << setw(15) << right << s.averageGrade << endl;\n",
    "}\n",
    "fout << setw(90) << setfill('*') << \" \" << endl;"
   ]
  },
  {
   "cell_type": "code",
   "execution_count": 96,
   "metadata": {},
   "outputs": [],
   "source": [
    "// convert the above code to a function!\n",
    "// all the stream objects must be passed-by reference!\n",
    "// out is a generic ostream parameter (can be cout or fout)\n",
    "void writeResults(ostream & out) {\n",
    "    // print all the students' info to the fout stream\n",
    "\n",
    "    // write column headers\n",
    "    out << setw(90) << setfill('=') << \" \" << setfill(' ') << endl;\n",
    "    out << setw(colWidth) << left << \"First Name\" \n",
    "        << setw(colWidth) << left << \"Last Name\";\n",
    "    // students grades\n",
    "    for(int i=0; i<3; i++) {\n",
    "        string testHeader = \"test\" + to_string(i+1);\n",
    "        out << setw(10) << right << testHeader;\n",
    "    }\n",
    "    out << setw(15) << right << \"Avgerage\" << endl;\n",
    "    out << setw(90) << setfill('=') << \" \" << endl;\n",
    "\n",
    "    // write records\n",
    "    out << setfill(' ') << fixed << setprecision(1);\n",
    "    for(StudentGrade s: gradebook) {\n",
    "        out << setw(colWidth) << left << s.firstName\n",
    "            << setw(colWidth) << left << s.lastName;\n",
    "        for(int i=0; i<3; i++)\n",
    "            out << setw(10) << right << s.grades[i];\n",
    "        out << setw(15) << right << s.averageGrade << endl;\n",
    "    }\n",
    "    out << setw(90) << setfill('*') << \" \" << endl;\n",
    "}"
   ]
  },
  {
   "cell_type": "code",
   "execution_count": 97,
   "metadata": {},
   "outputs": [
    {
     "name": "stdout",
     "output_type": "stream",
     "text": [
      "========================================================================================= \n",
      "First Name          Last Name                test1     test2     test3       Avgerage\n",
      "========================================================================================= \n",
      "John                Smith                      100        95        85           93.3\n",
      "Jane                Doe                         85        89        99           91.0\n",
      "Jill                Jones                       56        89        99           81.3\n",
      "***************************************************************************************** \n"
     ]
    }
   ],
   "source": [
    "// write to standard output/console\n",
    "writeResults(cout);"
   ]
  },
  {
   "cell_type": "code",
   "execution_count": 98,
   "metadata": {},
   "outputs": [],
   "source": [
    "// write to file output\n",
    "writeResults(fout);\n",
    "// check the contents of file"
   ]
  },
  {
   "cell_type": "code",
   "execution_count": 99,
   "metadata": {},
   "outputs": [],
   "source": [
    "// close the file\n",
    "fout.close();"
   ]
  },
  {
   "cell_type": "markdown",
   "metadata": {},
   "source": [
    "## Exercises\n",
    "\n",
    "1. Write a program that computes distance between two points in Cartesian coordinates.\n",
    "    - use struct to represent Point\n",
    "    - prompt user to enter two points\n",
    "    - use as many function(s) as possible\n",
    "    - write at least 3 test cases for each computing functions\n",
    "    - program continues to run until user wants to quit\n",
    "    - most of the part is done in Jupyter Notebook demo\n",
    "    \n",
    "    \n",
    "2. Write a program to compute area and circumference of a circle using struct.\n",
    "    - use struct to represent Circle\n",
    "    - prompt user to enter radius of a circle\n",
    "    - use as many function(s) as possible\n",
    "    - write at least 3 test cases for each computing functions\n",
    "    - program continues to run until user wants to quit\n",
    "    \n",
    "\n",
    "3. Write a program to compute area and perimeter of a rectangle using struct.\n",
    "    - use struct to represent Rectangle\n",
    "    - prompt user to enter length and width of a rectangle\n",
    "    - use as many function(s) as possible\n",
    "    - write at least 3 test cases for each computing functions\n",
    "    - program continues to run until user wants to quit\n",
    "    \n",
    "    \n",
    "4. Write a program to compute area and perimeter of a triangle given 3 sides.\n",
    "    - use struct to represent Triangle\n",
    "    - prompt user to enter 3 sides of a triangle\n",
    "    - use as many function(s) as possible\n",
    "    - write at least 3 test cases for each computing functions\n",
    "    - program continues to run until user wants to quit"
   ]
  },
  {
   "cell_type": "code",
   "execution_count": 1,
   "metadata": {},
   "outputs": [],
   "source": [
    "// Sample solution for #4\n",
    "// using incremental development\n",
    "// using functions as possible to break the problem\n",
    "#include <iostream>\n",
    "#include <cmath>\n",
    "#include <string>\n",
    "#include <cassert>\n",
    "#include <sstream>\n",
    "#include <iomanip>\n",
    "\n",
    "using namespace std;"
   ]
  },
  {
   "cell_type": "code",
   "execution_count": 2,
   "metadata": {},
   "outputs": [],
   "source": [
    "// use struct to represent Triangle\n",
    "// could be a templated struct\n",
    "struct Triangle {\n",
    "    float side1, side2, side3;\n",
    "    // can be an array\n",
    "    // float sides[3];\n",
    "};"
   ]
  },
  {
   "cell_type": "code",
   "execution_count": 3,
   "metadata": {},
   "outputs": [],
   "source": [
    "// function to check if 3 sides form a triangle\n",
    "bool validTriangle(float s1, float s2, float s3) {\n",
    "    // sum of every pair must be greater than the third\n",
    "    return (s1+s2 > s3 && (s2+s3 > s1) && (s1+s3 > s2))? true: false;\n",
    "}"
   ]
  },
  {
   "cell_type": "code",
   "execution_count": 4,
   "metadata": {},
   "outputs": [],
   "source": [
    "void test_validTriangle() {\n",
    "    assert(validTriangle(2, 3, 4) == true);\n",
    "    assert(validTriangle(1, 2, 3) == false);\n",
    "    assert(validTriangle(4, 5, 10) == false);\n",
    "    cerr << \"all test cases passed for validTriangle()\\n\";\n",
    "}"
   ]
  },
  {
   "cell_type": "code",
   "execution_count": 5,
   "metadata": {},
   "outputs": [
    {
     "name": "stderr",
     "output_type": "stream",
     "text": [
      "all test cases passed for validTriangle()\n"
     ]
    }
   ],
   "source": [
    "test_validTriangle()"
   ]
  },
  {
   "cell_type": "code",
   "execution_count": 6,
   "metadata": {},
   "outputs": [],
   "source": [
    "// function prompts user to enter 3 sides of a triangle\n",
    "// creates and returns a triangle\n",
    "Triangle getTriangle() {\n",
    "    float s1, s2, s3;\n",
    "    // input validation\n",
    "    do {\n",
    "        cout << \"Enter three sides of a triangle separated by space: \";\n",
    "        cin >> s1 >> s2 >> s3;\n",
    "        // check if three sides form a triangle\n",
    "        if (!validTriangle(s1, s2, s3))\n",
    "            cout << \"3 sides do not form a traingle.\\n\"\n",
    "                << \"Sum of any 2 sides must be greater than the third!\\n\";\n",
    "        else\n",
    "            break;\n",
    "    } while(true);\n",
    "    return Triangle({s1, s2, s3});\n",
    "}"
   ]
  },
  {
   "cell_type": "code",
   "execution_count": 7,
   "metadata": {},
   "outputs": [],
   "source": [
    "// let's manually test getTriangle\n",
    "Triangle t1;"
   ]
  },
  {
   "cell_type": "code",
   "execution_count": 8,
   "metadata": {},
   "outputs": [
    {
     "name": "stdout",
     "output_type": "stream",
     "text": [
      "Enter three sides of a triangle separated by space: \n",
      "1 2 3\n",
      "3 sides do not form a traingle.\n",
      "Sum of any 2 sides must be greater than the third!\n",
      "Enter three sides of a triangle separated by space: 3 4 5\n"
     ]
    }
   ],
   "source": [
    "t1 = getTriangle();"
   ]
  },
  {
   "cell_type": "code",
   "execution_count": null,
   "metadata": {},
   "outputs": [],
   "source": [
    "float trianglePerimeter(const Triangle & t) {\n",
    "    return t.side1 + t.side2 + t.side3;\n",
    "}"
   ]
  },
  {
   "cell_type": "code",
   "execution_count": null,
   "metadata": {},
   "outputs": [],
   "source": [
    "// write 3 test cases for trianglePerimeter\n",
    "void test_trianglePerimeter() {\n",
    "    assert(trianglePerimeter(Triangle({2, 3, 4})) == 9);\n",
    "    assert(trianglePerimeter(Triangle({3, 4, 5})) == 12);\n",
    "    assert(trianglePerimeter(Triangle({2.5, 3.5, 4.5})) == 10.5);\n",
    "    cerr << \"all test cases passed for trianglePerimeter()\\n\";\n",
    "}"
   ]
  },
  {
   "cell_type": "code",
   "execution_count": 13,
   "metadata": {},
   "outputs": [
    {
     "name": "stderr",
     "output_type": "stream",
     "text": [
      "all test cases passed for trianglePerimeter()\n"
     ]
    }
   ],
   "source": [
    "test_trianglePerimeter();"
   ]
  },
  {
   "cell_type": "code",
   "execution_count": 14,
   "metadata": {},
   "outputs": [],
   "source": [
    "// function to compute area of a triangle\n",
    "float triangleArea(const Triangle & t) {\n",
    "    // use heron's formula: https://www.mathsisfun.com/geometry/herons-formula.html\n",
    "    float s = trianglePerimeter(t)/2;\n",
    "    return sqrt(s*(s-t.side1)*(s-t.side2)*(s-t.side3));\n",
    "}"
   ]
  },
  {
   "cell_type": "code",
   "execution_count": 15,
   "metadata": {},
   "outputs": [],
   "source": [
    "// wrapper function to test if two floating numbers are equal upto precision decimal points\n",
    "void assertAlmostEqual(float value1, float value2, int precision) {\n",
    "    ostringstream oss;\n",
    "    // create output string stream with precision for floating-point values\n",
    "    oss << fixed << setprecision(precision) << value1 << \" \" << value2;\n",
    "    // create input string stream from output string stream\n",
    "    istringstream iss(oss.str());\n",
    "    float v1, v2;\n",
    "    // extract the values as float\n",
    "    iss >> v1 >> v2;\n",
    "    assert(v1 == v2);\n",
    "}"
   ]
  },
  {
   "cell_type": "code",
   "execution_count": 16,
   "metadata": {},
   "outputs": [],
   "source": [
    "// write 3 test cases for triangleArea\n",
    "void test_triangleArea() {\n",
    "    assert(triangleArea(Triangle({3, 4, 5})) == 6.0);\n",
    "    float area = triangleArea({2, 4, 5}); // coersion of 3 values into Triangle type\n",
    "    assertAlmostEqual(area, 3.799671038392666, 4); // accuracy upto 4 decimal points\n",
    "    assertAlmostEqual(triangleArea({3, 4, 6}), 5.3326822, 4);\n",
    "    cerr << \"all test cases passed for triangleArea()\\n\";\n",
    "}"
   ]
  },
  {
   "cell_type": "code",
   "execution_count": 17,
   "metadata": {},
   "outputs": [
    {
     "name": "stderr",
     "output_type": "stream",
     "text": [
      "all test cases passed for triangleArea()\n"
     ]
    }
   ],
   "source": [
    "test_triangleArea();"
   ]
  },
  {
   "cell_type": "code",
   "execution_count": 18,
   "metadata": {},
   "outputs": [],
   "source": [
    "// function to calculate and print the result on triangle\n",
    "void printResult(const Triangle & t) {\n",
    "    cout << \"Triangle info: \\n\"\n",
    "         << \"3 sides length: \" << t.side1 << \" \" << t.side2 << \" \" << t.side3\n",
    "         << \"\\narea: \" << triangleArea(t) \n",
    "         << \"\\nperimeter: \" << trianglePerimeter(t);\n",
    "}"
   ]
  },
  {
   "cell_type": "code",
   "execution_count": 19,
   "metadata": {},
   "outputs": [],
   "source": [
    "// complete program\n",
    "void program() {\n",
    "    Triangle t;\n",
    "    string cont;\n",
    "    do {\n",
    "        t = getTriangle();\n",
    "        printResult(t);\n",
    "        cout << \"\\nWant to enter another triangle? [yes|y]: \";\n",
    "        cin >> cont;\n",
    "        if (cont == \"yes\" || cont == \"y\") continue;\n",
    "        else break;\n",
    "    }while(true);\n",
    "    cout << \"Good bye...\";\n",
    "}"
   ]
  },
  {
   "cell_type": "code",
   "execution_count": 20,
   "metadata": {},
   "outputs": [
    {
     "name": "stdout",
     "output_type": "stream",
     "text": [
      "Enter three sides of a triangle separated by space: 1 2 3\n",
      "3 sides do not form a traingle.\n",
      "Sum of any 2 sides must be greater than the third!\n",
      "Enter three sides of a triangle separated by space: 4 5 6\n",
      "Triangle info: \n",
      "3 sides length: 4 5 6\n",
      "area: 9.92157\n",
      "perimeter: 15\n",
      "Want to enter another triangle? [yes|y]: yes\n",
      "Enter three sides of a triangle separated by space: 4 5 6\n",
      "Triangle info: \n",
      "3 sides length: 4 5 6\n",
      "area: 9.92157\n",
      "perimeter: 15\n",
      "Want to enter another triangle? [yes|y]: no\n",
      "Good bye..."
     ]
    }
   ],
   "source": [
    "program();"
   ]
  },
  {
   "cell_type": "markdown",
   "metadata": {},
   "source": [
    "#### see complete sample solution for exercise 4 in [demos/structs/triangle/triangle.cpp](demos/structs/triangle/triangle.cpp)\n",
    "\n",
    "\n",
    "5. A Grade Book:\n",
    "    - Write a C++ menu-driven program that let's professors keep track of students grades with the following requirements:\n",
    "    - program must use struct to keep track of students grades\n",
    "    - program prompts user to enter name of the input text file that contains students information in the following format\n",
    "        - first name, last name, test1, test2, test3, test4, test5\n",
    "    - program calculates avearge grade and the letter grade (A-F) based on the average grade\n",
    "    - program sorts the student records based on grade in non-increasing order (highest to lowest)\n",
    "    - program lets user add a new student\n",
    "    - program lets user update existing student's information\n",
    "    - program lets user delete existing student\n",
    "    - program saves the data back into the same input file as a database\n",
    "    - program creates a cleanly formatted report of students' grades"
   ]
  },
  {
   "cell_type": "markdown",
   "metadata": {},
   "source": [
    "## Kattis problems\n",
    "- struct is not a strict requirement to solve Kattis problems\n",
    "- struct is generally used when the problems can be better solved using your own type"
   ]
  },
  {
   "cell_type": "markdown",
   "metadata": {},
   "source": [
    "## Summary\n",
    "- this chapter covered a new concept of creating user-defined type using struct\n",
    "- saw many examples of struct types and objects instantiated with those types\n",
    "- learned that array can be a member of struct\n",
    "- learned that a larger number of records (struct type) can be stored in an array\n",
    "- learned about out-of-the-box aggregate operations on struct objects\n",
    "    - assignment (=) is the only one that works out-of-the-box\n",
    "- learned how to pass struct objects to functions and return from them as well\n",
    "- exercises and a sample solutions using incremental development technique"
   ]
  },
  {
   "cell_type": "code",
   "execution_count": null,
   "metadata": {},
   "outputs": [],
   "source": []
  }
 ],
 "metadata": {
  "kernelspec": {
   "display_name": "C++14",
   "language": "C++14",
   "name": "xcpp14"
  },
  "language_info": {
   "codemirror_mode": "text/x-c++src",
   "file_extension": ".cpp",
   "mimetype": "text/x-c++src",
   "name": "c++",
   "version": "14"
  }
 },
 "nbformat": 4,
 "nbformat_minor": 4
}
